{
 "cells": [
  {
   "cell_type": "code",
   "execution_count": null,
   "id": "bedcf8c5-2882-4113-8eda-b26b32c75193",
   "metadata": {},
   "outputs": [],
   "source": [
    "#Map Function"
   ]
  },
  {
   "cell_type": "code",
   "execution_count": 1,
   "id": "432719c7-59a1-49bd-9b10-5a6c1d7db7c3",
   "metadata": {},
   "outputs": [],
   "source": [
    "def even_or_odd(num):\n",
    "    if(num%2==0):\n",
    "        return True\n",
    "    else:\n",
    "        return False\n",
    "    "
   ]
  },
  {
   "cell_type": "code",
   "execution_count": 3,
   "id": "269db87e-33dc-47bc-a94a-6683dbaad4de",
   "metadata": {},
   "outputs": [
    {
     "data": {
      "text/plain": [
       "True"
      ]
     },
     "execution_count": 3,
     "metadata": {},
     "output_type": "execute_result"
    }
   ],
   "source": [
    "even_or_odd(90)"
   ]
  },
  {
   "cell_type": "code",
   "execution_count": 4,
   "id": "dda12cd8-e635-4d46-80ab-dc7452db241f",
   "metadata": {},
   "outputs": [],
   "source": [
    "def even_or_oddtwo(num):\n",
    "    if(num%2==0):\n",
    "        return \"The number {} is Even\".format(num) \n",
    "    else:\n",
    "        return \"The number {} is odd\".format(num)   #format keyword is used to assign the positional value for provided variable"
   ]
  },
  {
   "cell_type": "code",
   "execution_count": 5,
   "id": "5b149c28-8bd0-4215-aacf-dd716c6468bb",
   "metadata": {},
   "outputs": [
    {
     "data": {
      "text/plain": [
       "'The number 4 is Even'"
      ]
     },
     "execution_count": 5,
     "metadata": {},
     "output_type": "execute_result"
    }
   ],
   "source": [
    "even_or_oddtwo(4)"
   ]
  },
  {
   "cell_type": "code",
   "execution_count": 6,
   "id": "5e370d8a-7be5-4755-a279-4a48196aa844",
   "metadata": {},
   "outputs": [],
   "source": [
    "lst=[1,2,3,4,5,6,7,8,9,24,56,78]"
   ]
  },
  {
   "cell_type": "code",
   "execution_count": 8,
   "id": "e32800d5-5e8f-48eb-9c88-df24153f83e7",
   "metadata": {},
   "outputs": [
    {
     "data": {
      "text/plain": [
       "['The number 1 is odd',\n",
       " 'The number 2 is Even',\n",
       " 'The number 3 is odd',\n",
       " 'The number 4 is Even',\n",
       " 'The number 5 is odd',\n",
       " 'The number 6 is Even',\n",
       " 'The number 7 is odd',\n",
       " 'The number 8 is Even',\n",
       " 'The number 9 is odd',\n",
       " 'The number 24 is Even',\n",
       " 'The number 56 is Even',\n",
       " 'The number 78 is Even']"
      ]
     },
     "execution_count": 8,
     "metadata": {},
     "output_type": "execute_result"
    }
   ],
   "source": [
    "list(map(even_or_oddtwo,lst))    #map(func, *iterables) --> map object"
   ]
  }
 ],
 "metadata": {
  "kernelspec": {
   "display_name": "Python 3 (ipykernel)",
   "language": "python",
   "name": "python3"
  },
  "language_info": {
   "codemirror_mode": {
    "name": "ipython",
    "version": 3
   },
   "file_extension": ".py",
   "mimetype": "text/x-python",
   "name": "python",
   "nbconvert_exporter": "python",
   "pygments_lexer": "ipython3",
   "version": "3.12.7"
  }
 },
 "nbformat": 4,
 "nbformat_minor": 5
}

{
 "cells": [
  {
   "cell_type": "code",
   "execution_count": 1,
   "id": "21ac6c08-7931-472c-8af8-fe44fb8274e4",
   "metadata": {},
   "outputs": [],
   "source": [
    "##lambda functions\n",
    "# anonymous function\n",
    "# function with no name"
   ]
  },
  {
   "cell_type": "code",
   "execution_count": 4,
   "id": "c17a813e-864f-4484-bad8-64b0d2b22d3d",
   "metadata": {},
   "outputs": [],
   "source": [
    "def addition(a,b):\n",
    "    return a + b"
   ]
  },
  {
   "cell_type": "code",
   "execution_count": 5,
   "id": "58f46633-bb01-4452-8cd7-627533d3eca3",
   "metadata": {},
   "outputs": [
    {
     "data": {
      "text/plain": [
       "7"
      ]
     },
     "execution_count": 5,
     "metadata": {},
     "output_type": "execute_result"
    }
   ],
   "source": [
    "addition(3,4)"
   ]
  },
  {
   "cell_type": "code",
   "execution_count": null,
   "id": "c21362c6-3c9a-414d-8b72-15bb6122f8c4",
   "metadata": {},
   "outputs": [],
   "source": [
    "#if we have a single expression in a function , that function can be converted into lambda functions"
   ]
  },
  {
   "cell_type": "code",
   "execution_count": 8,
   "id": "3cb7f049-df13-4c17-9ea9-07d3aa88f466",
   "metadata": {},
   "outputs": [
    {
     "data": {
      "text/plain": [
       "<function __main__.<lambda>(a, b)>"
      ]
     },
     "execution_count": 8,
     "metadata": {},
     "output_type": "execute_result"
    }
   ],
   "source": [
    "lambda a,b:a+b"
   ]
  },
  {
   "cell_type": "code",
   "execution_count": 9,
   "id": "63bac6e8-c8c9-49c2-ae3c-0637a23615bd",
   "metadata": {},
   "outputs": [],
   "source": [
    "addition=lambda a,b:a+b"
   ]
  },
  {
   "cell_type": "code",
   "execution_count": 10,
   "id": "a3ff60d5-bf65-4802-93c2-5d7429e306cd",
   "metadata": {},
   "outputs": [
    {
     "data": {
      "text/plain": [
       "26"
      ]
     },
     "execution_count": 10,
     "metadata": {},
     "output_type": "execute_result"
    }
   ],
   "source": [
    "addition(12,14)    #a=12,b=14,a+b=26"
   ]
  },
  {
   "cell_type": "code",
   "execution_count": 11,
   "id": "376aad4c-add3-49d3-83be-8178998667d8",
   "metadata": {},
   "outputs": [],
   "source": [
    "def even(num):\n",
    "    if num%2==0:\n",
    "        return True\n",
    "    "
   ]
  },
  {
   "cell_type": "code",
   "execution_count": 12,
   "id": "f8b490b6-f247-48ba-8a4d-afa65f9f6a11",
   "metadata": {},
   "outputs": [
    {
     "data": {
      "text/plain": [
       "True"
      ]
     },
     "execution_count": 12,
     "metadata": {},
     "output_type": "execute_result"
    }
   ],
   "source": [
    "even(2)"
   ]
  },
  {
   "cell_type": "code",
   "execution_count": 13,
   "id": "fa399d75-3348-4696-8686-bd5273621bdf",
   "metadata": {},
   "outputs": [],
   "source": [
    "even1 = lambda a:a%2==0"
   ]
  },
  {
   "cell_type": "code",
   "execution_count": 14,
   "id": "45555463-cdbd-4a35-8440-a1dae95066ce",
   "metadata": {},
   "outputs": [
    {
     "data": {
      "text/plain": [
       "True"
      ]
     },
     "execution_count": 14,
     "metadata": {},
     "output_type": "execute_result"
    }
   ],
   "source": [
    "even1(24)"
   ]
  },
  {
   "cell_type": "code",
   "execution_count": 16,
   "id": "346dde2f-025d-4951-b2e8-1c940868a64b",
   "metadata": {},
   "outputs": [],
   "source": [
    "def addition(x,y,z):\n",
    "    return x+y+z\n",
    "    "
   ]
  },
  {
   "cell_type": "code",
   "execution_count": 17,
   "id": "44dc9d10-8f8a-40d6-9d61-c59fc547b19e",
   "metadata": {},
   "outputs": [
    {
     "data": {
      "text/plain": [
       "6"
      ]
     },
     "execution_count": 17,
     "metadata": {},
     "output_type": "execute_result"
    }
   ],
   "source": [
    "addition(1,2,3)"
   ]
  },
  {
   "cell_type": "code",
   "execution_count": 18,
   "id": "3e1f9126-2341-46d8-95c6-5a45e42fdc52",
   "metadata": {},
   "outputs": [],
   "source": [
    "addition1=lambda a,b,c:a+b+c\n"
   ]
  },
  {
   "cell_type": "code",
   "execution_count": 19,
   "id": "4dfa6764-874b-4a9c-a730-b9021dff7690",
   "metadata": {},
   "outputs": [
    {
     "data": {
      "text/plain": [
       "12"
      ]
     },
     "execution_count": 19,
     "metadata": {},
     "output_type": "execute_result"
    }
   ],
   "source": [
    "addition1(3,4,5)"
   ]
  },
  {
   "cell_type": "code",
   "execution_count": null,
   "id": "251d7118-3423-4546-8906-cfdad09e40ba",
   "metadata": {},
   "outputs": [],
   "source": []
  },
  {
   "cell_type": "code",
   "execution_count": null,
   "id": "bb1efdbf-f0ad-4484-ae91-0611d633f96f",
   "metadata": {},
   "outputs": [],
   "source": []
  },
  {
   "cell_type": "code",
   "execution_count": null,
   "id": "e0d9151d-813e-487e-8e07-ac9a30c7e586",
   "metadata": {},
   "outputs": [],
   "source": []
  },
  {
   "cell_type": "code",
   "execution_count": null,
   "id": "a8d7644a-1da0-4b65-bef9-5b5c5609ae9d",
   "metadata": {},
   "outputs": [],
   "source": []
  }
 ],
 "metadata": {
  "kernelspec": {
   "display_name": "Python 3 (ipykernel)",
   "language": "python",
   "name": "python3"
  },
  "language_info": {
   "codemirror_mode": {
    "name": "ipython",
    "version": 3
   },
   "file_extension": ".py",
   "mimetype": "text/x-python",
   "name": "python",
   "nbconvert_exporter": "python",
   "pygments_lexer": "ipython3",
   "version": "3.12.7"
  }
 },
 "nbformat": 4,
 "nbformat_minor": 5
}

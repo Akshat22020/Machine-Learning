{
 "cells": [
  {
   "cell_type": "raw",
   "id": "03289762-b2b5-40b9-a044-e424593a0658",
   "metadata": {},
   "source": [
    "NumPy is one of the most imp libraris , used to create multidim arrays and also is used to perform different operations in the arrays."
   ]
  },
  {
   "cell_type": "code",
   "execution_count": 1,
   "id": "04672c19-73af-4b48-afcb-e6a907771893",
   "metadata": {},
   "outputs": [],
   "source": [
    "import numpy as np"
   ]
  },
  {
   "cell_type": "code",
   "execution_count": 2,
   "id": "82c88363-d13d-47d8-80c7-ca203bb22342",
   "metadata": {},
   "outputs": [],
   "source": [
    "lst=[1,2,3,4,5]\n",
    "arr=np.array(lst)"
   ]
  },
  {
   "cell_type": "code",
   "execution_count": 3,
   "id": "3317d549-2fd7-4ac7-b24f-88691761e8e3",
   "metadata": {},
   "outputs": [
    {
     "name": "stdout",
     "output_type": "stream",
     "text": [
      "<class 'numpy.ndarray'>\n"
     ]
    }
   ],
   "source": [
    "print(type(arr))"
   ]
  },
  {
   "cell_type": "code",
   "execution_count": 4,
   "id": "fab6b01d-5fcf-4f3e-bafc-363bdf217f87",
   "metadata": {},
   "outputs": [
    {
     "name": "stdout",
     "output_type": "stream",
     "text": [
      "[1 2 3 4 5]\n"
     ]
    }
   ],
   "source": [
    "print(arr)"
   ]
  },
  {
   "cell_type": "code",
   "execution_count": 6,
   "id": "93f8366d-b5cd-4063-b6dc-535cc049de36",
   "metadata": {},
   "outputs": [
    {
     "data": {
      "text/plain": [
       "(5,)"
      ]
     },
     "execution_count": 6,
     "metadata": {},
     "output_type": "execute_result"
    }
   ],
   "source": [
    "arr.shape"
   ]
  },
  {
   "cell_type": "code",
   "execution_count": 8,
   "id": "8e0ab1c5-23a5-476a-a067-a11ea663c625",
   "metadata": {},
   "outputs": [
    {
     "data": {
      "text/plain": [
       "numpy.ndarray"
      ]
     },
     "execution_count": 8,
     "metadata": {},
     "output_type": "execute_result"
    }
   ],
   "source": [
    "type(arr)"
   ]
  },
  {
   "cell_type": "code",
   "execution_count": null,
   "id": "3b5c2f5f-edd5-4ae2-ae2b-ab0b7c135a29",
   "metadata": {},
   "outputs": [],
   "source": [
    "2D-Array"
   ]
  },
  {
   "cell_type": "code",
   "execution_count": 10,
   "id": "79fe60f5-37e5-4ef2-8f90-af0c934fbd1b",
   "metadata": {},
   "outputs": [],
   "source": [
    "list1=[1,2,3,4,5]\n",
    "list2=[3,4,5,6,7]\n",
    "list3=[5,6,7,8,9]\n",
    "arr1=np.array([list1,list2,list3])\n"
   ]
  },
  {
   "cell_type": "code",
   "execution_count": 11,
   "id": "0ac4a742-bd22-497f-af28-970306be15ea",
   "metadata": {},
   "outputs": [
    {
     "data": {
      "text/plain": [
       "array([[1, 2, 3, 4, 5],\n",
       "       [3, 4, 5, 6, 7],\n",
       "       [5, 6, 7, 8, 9]])"
      ]
     },
     "execution_count": 11,
     "metadata": {},
     "output_type": "execute_result"
    }
   ],
   "source": [
    "arr1\n"
   ]
  },
  {
   "cell_type": "code",
   "execution_count": 14,
   "id": "a838267c-e8bd-4a07-9a78-042b993243ce",
   "metadata": {},
   "outputs": [
    {
     "data": {
      "text/plain": [
       "(3, 5)"
      ]
     },
     "execution_count": 14,
     "metadata": {},
     "output_type": "execute_result"
    }
   ],
   "source": [
    "arr1.shape"
   ]
  },
  {
   "cell_type": "code",
   "execution_count": 15,
   "id": "71542190-359f-4679-96f6-8bb81b9d7b40",
   "metadata": {},
   "outputs": [
    {
     "data": {
      "text/plain": [
       "array([[1, 2, 3],\n",
       "       [4, 5, 3],\n",
       "       [4, 5, 6],\n",
       "       [7, 5, 6],\n",
       "       [7, 8, 9]])"
      ]
     },
     "execution_count": 15,
     "metadata": {},
     "output_type": "execute_result"
    }
   ],
   "source": [
    "arr1.reshape(5,3)"
   ]
  },
  {
   "cell_type": "code",
   "execution_count": 16,
   "id": "2c36dec5-0aec-466d-9669-4633c68a6d93",
   "metadata": {},
   "outputs": [],
   "source": [
    "arr2=np.array([1,2,3,4,5,6,7,8,9])"
   ]
  },
  {
   "cell_type": "code",
   "execution_count": 17,
   "id": "b150760f-04f9-4e16-9105-f3d9ef98e144",
   "metadata": {},
   "outputs": [
    {
     "data": {
      "text/plain": [
       "(9,)"
      ]
     },
     "execution_count": 17,
     "metadata": {},
     "output_type": "execute_result"
    }
   ],
   "source": [
    "arr2.shape"
   ]
  },
  {
   "cell_type": "code",
   "execution_count": 18,
   "id": "891731af-fdd5-422a-83fa-422d434ef249",
   "metadata": {},
   "outputs": [
    {
     "data": {
      "text/plain": [
       "array([[1, 2, 3, 4, 5, 6, 7, 8, 9]])"
      ]
     },
     "execution_count": 18,
     "metadata": {},
     "output_type": "execute_result"
    }
   ],
   "source": [
    "arr2.reshape(1,9)\n"
   ]
  },
  {
   "cell_type": "code",
   "execution_count": 19,
   "id": "b884a6f7-fcb1-4f22-b375-f78e4ffd3bc5",
   "metadata": {},
   "outputs": [
    {
     "data": {
      "text/plain": [
       "5"
      ]
     },
     "execution_count": 19,
     "metadata": {},
     "output_type": "execute_result"
    }
   ],
   "source": [
    "arr2[4]"
   ]
  },
  {
   "cell_type": "code",
   "execution_count": null,
   "id": "061b3575-9499-4854-959b-3b3f478197b0",
   "metadata": {},
   "outputs": [],
   "source": [
    "Accessing the values of arr1 from indexing in 2d arrays"
   ]
  },
  {
   "cell_type": "code",
   "execution_count": 22,
   "id": "aea028d7-6960-442b-a2ee-aa43c401bba1",
   "metadata": {},
   "outputs": [
    {
     "data": {
      "text/plain": [
       "array([[1, 2, 3, 4, 5],\n",
       "       [3, 4, 5, 6, 7],\n",
       "       [5, 6, 7, 8, 9]])"
      ]
     },
     "execution_count": 22,
     "metadata": {},
     "output_type": "execute_result"
    }
   ],
   "source": [
    "arr1[:,:]"
   ]
  },
  {
   "cell_type": "code",
   "execution_count": 23,
   "id": "40061207-b900-4929-a7c0-b61a647abea5",
   "metadata": {},
   "outputs": [
    {
     "data": {
      "text/plain": [
       "array([[5, 6, 7],\n",
       "       [7, 8, 9]])"
      ]
     },
     "execution_count": 23,
     "metadata": {},
     "output_type": "execute_result"
    }
   ],
   "source": [
    "arr1[1:,2:]"
   ]
  },
  {
   "cell_type": "code",
   "execution_count": 24,
   "id": "eaa9cc68-313c-417e-a81c-46ed3fc6d86a",
   "metadata": {},
   "outputs": [
    {
     "data": {
      "text/plain": [
       "array([[1, 2]])"
      ]
     },
     "execution_count": 24,
     "metadata": {},
     "output_type": "execute_result"
    }
   ],
   "source": [
    "arr1[:1,:2]"
   ]
  },
  {
   "cell_type": "code",
   "execution_count": 27,
   "id": "0c83f1de-3741-4b99-a2ce-3cd05f3d832d",
   "metadata": {},
   "outputs": [
    {
     "data": {
      "text/plain": [
       "array([[1, 2, 3],\n",
       "       [3, 4, 5],\n",
       "       [5, 6, 7]])"
      ]
     },
     "execution_count": 27,
     "metadata": {},
     "output_type": "execute_result"
    }
   ],
   "source": [
    "arr1[:3,:3]"
   ]
  },
  {
   "cell_type": "code",
   "execution_count": 30,
   "id": "ef2129fb-5817-489b-abe8-8c5af9305aff",
   "metadata": {},
   "outputs": [
    {
     "data": {
      "text/plain": [
       "array([[1, 2],\n",
       "       [3, 4]])"
      ]
     },
     "execution_count": 30,
     "metadata": {},
     "output_type": "execute_result"
    }
   ],
   "source": [
    "arr1[0:2,0:2]   #lower bound and upper bounds play an imp role , say [1:3] , it basically means - rows 1,2 and not 3rd row"
   ]
  },
  {
   "cell_type": "code",
   "execution_count": 31,
   "id": "cfd0aa4b-0889-4841-b207-3f86fa1d499c",
   "metadata": {},
   "outputs": [
    {
     "data": {
      "text/plain": [
       "3"
      ]
     },
     "execution_count": 31,
     "metadata": {},
     "output_type": "execute_result"
    }
   ],
   "source": [
    "arr1[0,2]"
   ]
  },
  {
   "cell_type": "code",
   "execution_count": 32,
   "id": "6905f43a-9763-48f7-89ab-8770038f4d59",
   "metadata": {},
   "outputs": [
    {
     "data": {
      "text/plain": [
       "array([1, 2, 3, 4])"
      ]
     },
     "execution_count": 32,
     "metadata": {},
     "output_type": "execute_result"
    }
   ],
   "source": [
    "arr1[0,:4]"
   ]
  },
  {
   "cell_type": "code",
   "execution_count": 33,
   "id": "153975a5-73a5-4b3c-a691-0a110358c132",
   "metadata": {},
   "outputs": [],
   "source": [
    "arr3=np.array([1,2,3,4,5,2,3,4,5,6,9,7,6,8,9])"
   ]
  },
  {
   "cell_type": "code",
   "execution_count": 34,
   "id": "f445ff3d-960d-44f2-adb3-ada52b3cb7b3",
   "metadata": {},
   "outputs": [
    {
     "data": {
      "text/plain": [
       "(15,)"
      ]
     },
     "execution_count": 34,
     "metadata": {},
     "output_type": "execute_result"
    }
   ],
   "source": [
    "arr3.shape"
   ]
  },
  {
   "cell_type": "code",
   "execution_count": 35,
   "id": "b79a5b5e-745b-4927-ab19-911641a2908b",
   "metadata": {},
   "outputs": [
    {
     "data": {
      "text/plain": [
       "array([[1, 2, 3, 4, 5],\n",
       "       [2, 3, 4, 5, 6],\n",
       "       [9, 7, 6, 8, 9]])"
      ]
     },
     "execution_count": 35,
     "metadata": {},
     "output_type": "execute_result"
    }
   ],
   "source": [
    "arr3.reshape(3,5)"
   ]
  },
  {
   "cell_type": "code",
   "execution_count": 41,
   "id": "ec890eb8-f6dd-419f-8f22-f34dcab624d5",
   "metadata": {},
   "outputs": [
    {
     "data": {
      "text/plain": [
       "array([1, 2, 3, 4, 5, 2, 3, 4, 5, 6, 9, 7, 6, 8, 9])"
      ]
     },
     "execution_count": 41,
     "metadata": {},
     "output_type": "execute_result"
    }
   ],
   "source": [
    "arr3"
   ]
  },
  {
   "cell_type": "code",
   "execution_count": 42,
   "id": "ed7f37d4-15e9-4b39-a1dd-6430202e937c",
   "metadata": {},
   "outputs": [],
   "source": [
    "arr4=arr3.reshape(3,5)"
   ]
  },
  {
   "cell_type": "code",
   "execution_count": 43,
   "id": "83a85d31-97b7-4615-859b-ea0b9e2be619",
   "metadata": {},
   "outputs": [
    {
     "data": {
      "text/plain": [
       "array([[1, 2, 3, 4, 5],\n",
       "       [2, 3, 4, 5, 6],\n",
       "       [9, 7, 6, 8, 9]])"
      ]
     },
     "execution_count": 43,
     "metadata": {},
     "output_type": "execute_result"
    }
   ],
   "source": [
    "arr4"
   ]
  },
  {
   "cell_type": "code",
   "execution_count": 45,
   "id": "92dc2c35-8dc9-4007-b751-5f74d189b970",
   "metadata": {},
   "outputs": [
    {
     "data": {
      "text/plain": [
       "array([[4, 5],\n",
       "       [6, 8]])"
      ]
     },
     "execution_count": 45,
     "metadata": {},
     "output_type": "execute_result"
    }
   ],
   "source": [
    "arr4[1:,2:4]\n"
   ]
  },
  {
   "cell_type": "code",
   "execution_count": 46,
   "id": "9d6eaa1d-9815-46c2-8992-692aaf0e6a5b",
   "metadata": {},
   "outputs": [
    {
     "data": {
      "text/plain": [
       "array([[3, 4, 5]])"
      ]
     },
     "execution_count": 46,
     "metadata": {},
     "output_type": "execute_result"
    }
   ],
   "source": [
    "arr4[1:2,1:4]"
   ]
  },
  {
   "cell_type": "code",
   "execution_count": 49,
   "id": "5780f0f3-8b3c-4b92-bbd6-56a5687501c4",
   "metadata": {},
   "outputs": [
    {
     "data": {
      "text/plain": [
       "array([0, 1, 2, 3, 4, 5, 6, 7, 8, 9])"
      ]
     },
     "execution_count": 49,
     "metadata": {},
     "output_type": "execute_result"
    }
   ],
   "source": [
    "arr4\n"
   ]
  },
  {
   "cell_type": "code",
   "execution_count": 51,
   "id": "b7ff2942-0c3e-4608-bddf-b9eb49eb8288",
   "metadata": {},
   "outputs": [
    {
     "data": {
      "text/plain": [
       "array([ 1.        ,  1.18367347,  1.36734694,  1.55102041,  1.73469388,\n",
       "        1.91836735,  2.10204082,  2.28571429,  2.46938776,  2.65306122,\n",
       "        2.83673469,  3.02040816,  3.20408163,  3.3877551 ,  3.57142857,\n",
       "        3.75510204,  3.93877551,  4.12244898,  4.30612245,  4.48979592,\n",
       "        4.67346939,  4.85714286,  5.04081633,  5.2244898 ,  5.40816327,\n",
       "        5.59183673,  5.7755102 ,  5.95918367,  6.14285714,  6.32653061,\n",
       "        6.51020408,  6.69387755,  6.87755102,  7.06122449,  7.24489796,\n",
       "        7.42857143,  7.6122449 ,  7.79591837,  7.97959184,  8.16326531,\n",
       "        8.34693878,  8.53061224,  8.71428571,  8.89795918,  9.08163265,\n",
       "        9.26530612,  9.44897959,  9.63265306,  9.81632653, 10.        ])"
      ]
     },
     "execution_count": 51,
     "metadata": {},
     "output_type": "execute_result"
    }
   ],
   "source": [
    "np.linspace(1,10,50)"
   ]
  },
  {
   "cell_type": "code",
   "execution_count": 55,
   "id": "67dffb4f-489f-460f-a9ce-c5235a7409f7",
   "metadata": {},
   "outputs": [],
   "source": [
    "#copy function\n",
    "arr4[3:]=100            #after 3rd index , convert every values to 100\n"
   ]
  },
  {
   "cell_type": "code",
   "execution_count": 56,
   "id": "6ea2c5bb-92df-4990-aec4-de4df486f3f3",
   "metadata": {},
   "outputs": [
    {
     "data": {
      "text/plain": [
       "array([  0,   1,   2, 100, 100, 100, 100, 100, 100, 100])"
      ]
     },
     "execution_count": 56,
     "metadata": {},
     "output_type": "execute_result"
    }
   ],
   "source": [
    "arr4                #OOPS , the array got changed completely , so to minimize the retundency and create a healthy memory eccosystem .. we use copy function"
   ]
  },
  {
   "cell_type": "code",
   "execution_count": 57,
   "id": "ed9d17dc-5d9d-44b3-ad34-ed9ece12e180",
   "metadata": {},
   "outputs": [],
   "source": [
    "arr5=arr4.copy()"
   ]
  },
  {
   "cell_type": "code",
   "execution_count": 58,
   "id": "3affca3a-bb1b-4f20-b000-086fbe130b44",
   "metadata": {},
   "outputs": [
    {
     "data": {
      "text/plain": [
       "array([  0,   1,   2, 100, 100, 100, 100, 100, 100, 100])"
      ]
     },
     "execution_count": 58,
     "metadata": {},
     "output_type": "execute_result"
    }
   ],
   "source": [
    "arr5          #arr5 has elements copied from arr4"
   ]
  },
  {
   "cell_type": "code",
   "execution_count": 59,
   "id": "8185415e-6ffc-4c28-8235-e537183c64ca",
   "metadata": {},
   "outputs": [
    {
     "data": {
      "text/plain": [
       "array([[0, 1],\n",
       "       [2, 3],\n",
       "       [4, 5],\n",
       "       [6, 7],\n",
       "       [8, 9]])"
      ]
     },
     "execution_count": 59,
     "metadata": {},
     "output_type": "execute_result"
    }
   ],
   "source": [
    "np.arange(0,10).reshape(5,2)"
   ]
  },
  {
   "cell_type": "code",
   "execution_count": null,
   "id": "a5a10dc0-878f-4b3d-b0e1-47cce8b21ece",
   "metadata": {},
   "outputs": [],
   "source": [
    "#some conditions are very helpful in learning and implementing Data analytics"
   ]
  },
  {
   "cell_type": "code",
   "execution_count": 63,
   "id": "63fbc707-9e80-4750-948c-5eed7e551b12",
   "metadata": {},
   "outputs": [
    {
     "data": {
      "text/plain": [
       "array([ True, False, False, False, False])"
      ]
     },
     "execution_count": 63,
     "metadata": {},
     "output_type": "execute_result"
    }
   ],
   "source": [
    "val=2\n",
    "arr5[arr5<=val]\n",
    "arr<2"
   ]
  },
  {
   "cell_type": "markdown",
   "id": "f2a2c24d-9f8e-4529-ac1e-06b980de2a70",
   "metadata": {},
   "source": [
    "##"
   ]
  },
  {
   "cell_type": "code",
   "execution_count": 66,
   "id": "79853771-d117-4013-8d0e-27bcfdb1ee84",
   "metadata": {},
   "outputs": [
    {
     "data": {
      "text/plain": [
       "array([0, 1, 2, 0, 0, 0, 0, 0, 0, 0], dtype=int32)"
      ]
     },
     "execution_count": 66,
     "metadata": {},
     "output_type": "execute_result"
    }
   ],
   "source": [
    "arr5%10\n"
   ]
  },
  {
   "cell_type": "code",
   "execution_count": 67,
   "id": "a58383a9-0347-4cab-9b87-187287b07f54",
   "metadata": {},
   "outputs": [
    {
     "data": {
      "text/plain": [
       "array([0, 1, 0, 0, 0, 0, 0, 0, 0, 0], dtype=int32)"
      ]
     },
     "execution_count": 67,
     "metadata": {},
     "output_type": "execute_result"
    }
   ],
   "source": [
    "arr5%2\n"
   ]
  },
  {
   "cell_type": "code",
   "execution_count": 68,
   "id": "a9e5cf73-4528-4d07-8809-ea0f1c739a3f",
   "metadata": {},
   "outputs": [
    {
     "data": {
      "text/plain": [
       "array([1., 1., 1., 1.])"
      ]
     },
     "execution_count": 68,
     "metadata": {},
     "output_type": "execute_result"
    }
   ],
   "source": [
    "np.ones(4)"
   ]
  },
  {
   "cell_type": "code",
   "execution_count": 77,
   "id": "89d291ef-f97a-453a-b197-f00edd64d2d5",
   "metadata": {},
   "outputs": [
    {
     "data": {
      "text/plain": [
       "array([[ 1,  4,  9, 16, 25],\n",
       "       [ 9, 16, 25, 36, 49],\n",
       "       [25, 36, 49, 64, 81]])"
      ]
     },
     "execution_count": 77,
     "metadata": {},
     "output_type": "execute_result"
    }
   ],
   "source": [
    "arr1*arr1"
   ]
  },
  {
   "cell_type": "code",
   "execution_count": 70,
   "id": "50b556df-9f70-4ab1-a842-2d7a24f67546",
   "metadata": {},
   "outputs": [
    {
     "data": {
      "text/plain": [
       "array([    0,     1,     4, 10000, 10000, 10000, 10000, 10000, 10000,\n",
       "       10000])"
      ]
     },
     "execution_count": 70,
     "metadata": {},
     "output_type": "execute_result"
    }
   ],
   "source": [
    "arr4*arr5"
   ]
  },
  {
   "cell_type": "code",
   "execution_count": 73,
   "id": "99e4676d-e3ad-48fe-92a0-f40b60f90668",
   "metadata": {},
   "outputs": [
    {
     "data": {
      "text/plain": [
       "array([[1, 1, 1, 1, 1],\n",
       "       [1, 1, 1, 1, 1]])"
      ]
     },
     "execution_count": 73,
     "metadata": {},
     "output_type": "execute_result"
    }
   ],
   "source": [
    "np.ones((2,5),dtype=int)           #initialized the values of ones to be int "
   ]
  },
  {
   "cell_type": "code",
   "execution_count": 75,
   "id": "f61433f4-9600-4cb9-bf76-7311c3a8e1eb",
   "metadata": {},
   "outputs": [
    {
     "data": {
      "text/plain": [
       "array([[0.81153546, 0.80784696, 0.8576514 ],\n",
       "       [0.54117937, 0.99243176, 0.1363316 ],\n",
       "       [0.39588684, 0.01122239, 0.29510233]])"
      ]
     },
     "execution_count": 75,
     "metadata": {},
     "output_type": "execute_result"
    }
   ],
   "source": [
    "arr_ex=np.random.rand(3,3)\n",
    "arr_ex"
   ]
  },
  {
   "cell_type": "code",
   "execution_count": 76,
   "id": "50681f1a-ceda-4a31-8ede-37096bddab5c",
   "metadata": {},
   "outputs": [
    {
     "data": {
      "text/plain": [
       "array([[0.11193131, 0.22945658, 0.43508464, 0.4608124 , 0.39018473,\n",
       "        0.3975685 , 0.09325252, 0.28605911, 0.93335756, 0.17345794],\n",
       "       [0.58266373, 0.01119169, 0.87284044, 0.21517129, 0.22112694,\n",
       "        0.02586692, 0.77833232, 0.48336621, 0.09292505, 0.59512271],\n",
       "       [0.8171791 , 0.38712358, 0.05733193, 0.29030228, 0.23859325,\n",
       "        0.68835445, 0.67003694, 0.69212666, 0.56037991, 0.20802994]])"
      ]
     },
     "execution_count": 76,
     "metadata": {},
     "output_type": "execute_result"
    }
   ],
   "source": [
    "np.random.random_sample((3,10))"
   ]
  },
  {
   "cell_type": "code",
   "execution_count": null,
   "id": "f8d66184-60ad-4065-bf7a-b974923975cc",
   "metadata": {},
   "outputs": [],
   "source": []
  },
  {
   "cell_type": "code",
   "execution_count": null,
   "id": "7ed57500-4aec-4f30-afa9-b91817601328",
   "metadata": {},
   "outputs": [],
   "source": []
  }
 ],
 "metadata": {
  "kernelspec": {
   "display_name": "Python 3 (ipykernel)",
   "language": "python",
   "name": "python3"
  },
  "language_info": {
   "codemirror_mode": {
    "name": "ipython",
    "version": 3
   },
   "file_extension": ".py",
   "mimetype": "text/x-python",
   "name": "python",
   "nbconvert_exporter": "python",
   "pygments_lexer": "ipython3",
   "version": "3.12.7"
  }
 },
 "nbformat": 4,
 "nbformat_minor": 5
}

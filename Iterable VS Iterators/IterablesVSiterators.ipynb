{
 "cells": [
  {
   "cell_type": "code",
   "execution_count": null,
   "id": "fdf71b43-49d0-4313-9145-841d9894a487",
   "metadata": {},
   "outputs": [],
   "source": [
    "#python iterables vs iterators"
   ]
  },
  {
   "cell_type": "code",
   "execution_count": 2,
   "id": "f1ab333f-7d45-4fb1-917a-7a3bb8569163",
   "metadata": {},
   "outputs": [
    {
     "name": "stdout",
     "output_type": "stream",
     "text": [
      "1\n",
      "4\n",
      "9\n",
      "16\n",
      "25\n",
      "36\n",
      "49\n",
      "64\n",
      "81\n"
     ]
    }
   ],
   "source": [
    "#iteratble list -> all the values are allocated in the memory\n",
    "lst=[1,2,3,4,5,6,7,8,9]\n",
    "for i in lst:\n",
    "    print(i*i)"
   ]
  },
  {
   "cell_type": "code",
   "execution_count": 3,
   "id": "aa0adc62-cd57-44e8-9352-57fd807df27b",
   "metadata": {},
   "outputs": [
    {
     "data": {
      "text/plain": [
       "<list_iterator at 0x27f736eb700>"
      ]
     },
     "execution_count": 3,
     "metadata": {},
     "output_type": "execute_result"
    }
   ],
   "source": [
    "iter(lst) "
   ]
  },
  {
   "cell_type": "code",
   "execution_count": null,
   "id": "01aca37a-c398-4401-9e64-f875192239ad",
   "metadata": {},
   "outputs": [],
   "source": [
    "# Get an iterator from an object.\n",
    "\n",
    "# In the first form, the argument must supply its own iterator, or be a sequence.\n",
    "# In the second form, the callable is called until it returns the sentinel.\n",
    "# Type:      builtin_function_or_method"
   ]
  },
  {
   "cell_type": "code",
   "execution_count": 17,
   "id": "fb4dc686-e523-43eb-a8fa-220a96241f93",
   "metadata": {},
   "outputs": [],
   "source": [
    "lst1=iter(lst)"
   ]
  },
  {
   "cell_type": "code",
   "execution_count": 5,
   "id": "30b8607c-43b8-4d9e-9d43-494c31f93b84",
   "metadata": {},
   "outputs": [
    {
     "data": {
      "text/plain": [
       "<list_iterator at 0x27f736eaf80>"
      ]
     },
     "execution_count": 5,
     "metadata": {},
     "output_type": "execute_result"
    }
   ],
   "source": [
    "lst1\n"
   ]
  },
  {
   "cell_type": "code",
   "execution_count": 6,
   "id": "f07ab26f-3e66-4958-b5e4-e430956ee733",
   "metadata": {},
   "outputs": [
    {
     "data": {
      "text/plain": [
       "1"
      ]
     },
     "execution_count": 6,
     "metadata": {},
     "output_type": "execute_result"
    }
   ],
   "source": [
    "next(lst1)"
   ]
  },
  {
   "cell_type": "code",
   "execution_count": 7,
   "id": "4a742000-65e3-4ab4-91d6-d0cc2da4d516",
   "metadata": {},
   "outputs": [
    {
     "data": {
      "text/plain": [
       "2"
      ]
     },
     "execution_count": 7,
     "metadata": {},
     "output_type": "execute_result"
    }
   ],
   "source": [
    "next(lst1)"
   ]
  },
  {
   "cell_type": "code",
   "execution_count": 12,
   "id": "962fddcc-754f-458c-b6dd-6c20c486f00c",
   "metadata": {},
   "outputs": [
    {
     "data": {
      "text/plain": [
       "4"
      ]
     },
     "execution_count": 12,
     "metadata": {},
     "output_type": "execute_result"
    }
   ],
   "source": [
    "next(lst1)"
   ]
  },
  {
   "cell_type": "code",
   "execution_count": 13,
   "id": "34bcf4a4-8a82-4b71-8f82-a08be44b168c",
   "metadata": {},
   "outputs": [
    {
     "name": "stdout",
     "output_type": "stream",
     "text": [
      "5\n",
      "6\n",
      "7\n",
      "8\n",
      "9\n"
     ]
    }
   ],
   "source": [
    "for i in lst1:\n",
    "    print(i)"
   ]
  },
  {
   "cell_type": "code",
   "execution_count": 18,
   "id": "7e2c3734-d1d7-4d39-80c7-2a869bc38ddf",
   "metadata": {
    "scrolled": true
   },
   "outputs": [
    {
     "name": "stdout",
     "output_type": "stream",
     "text": [
      "1\n",
      "2\n",
      "3\n",
      "4\n",
      "5\n",
      "6\n",
      "7\n",
      "8\n",
      "9\n"
     ]
    }
   ],
   "source": [
    "for i in lst1:\n",
    "    print(i)"
   ]
  },
  {
   "cell_type": "code",
   "execution_count": null,
   "id": "c3a8b892-c9b9-4458-aadd-c41599010a06",
   "metadata": {},
   "outputs": [],
   "source": [
    " "
   ]
  },
  {
   "cell_type": "code",
   "execution_count": null,
   "id": "4b6076a2-c93b-415a-ab39-1609d2ad2e60",
   "metadata": {},
   "outputs": [],
   "source": []
  },
  {
   "cell_type": "code",
   "execution_count": null,
   "id": "a28f1211-c5ae-4879-b368-6a7b00f74502",
   "metadata": {},
   "outputs": [],
   "source": []
  },
  {
   "cell_type": "code",
   "execution_count": null,
   "id": "229c24f5-efb3-423c-910a-8d08e1b25641",
   "metadata": {},
   "outputs": [],
   "source": []
  },
  {
   "cell_type": "code",
   "execution_count": null,
   "id": "4a69c283-d1af-4494-93ee-0619cbd8e547",
   "metadata": {},
   "outputs": [],
   "source": []
  }
 ],
 "metadata": {
  "kernelspec": {
   "display_name": "Python 3 (ipykernel)",
   "language": "python",
   "name": "python3"
  },
  "language_info": {
   "codemirror_mode": {
    "name": "ipython",
    "version": 3
   },
   "file_extension": ".py",
   "mimetype": "text/x-python",
   "name": "python",
   "nbconvert_exporter": "python",
   "pygments_lexer": "ipython3",
   "version": "3.12.7"
  }
 },
 "nbformat": 4,
 "nbformat_minor": 5
}

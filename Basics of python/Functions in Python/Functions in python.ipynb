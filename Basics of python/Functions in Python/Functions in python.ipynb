{
 "cells": [
  {
   "cell_type": "code",
   "execution_count": 1,
   "id": "c08add51-fda3-4663-a5cf-50e146d5d5f4",
   "metadata": {},
   "outputs": [],
   "source": [
    "def even_sel(num):\n",
    "    if num%2==0:\n",
    "        print(True)\n",
    "    else:\n",
    "        print(False)\n",
    "        "
   ]
  },
  {
   "cell_type": "code",
   "execution_count": 2,
   "id": "b81ea2c3-987e-464c-adf2-8c829a49d1fb",
   "metadata": {},
   "outputs": [
    {
     "name": "stdout",
     "output_type": "stream",
     "text": [
      "False\n"
     ]
    }
   ],
   "source": [
    "even_sel(3)"
   ]
  },
  {
   "cell_type": "code",
   "execution_count": 3,
   "id": "c997fe06-7408-41b5-8a12-b08e79f154dc",
   "metadata": {},
   "outputs": [
    {
     "name": "stdout",
     "output_type": "stream",
     "text": [
      "True\n"
     ]
    }
   ],
   "source": [
    "even_sel(456)"
   ]
  },
  {
   "cell_type": "code",
   "execution_count": 4,
   "id": "b82f6171-a351-4f38-ab05-ce1514b788b4",
   "metadata": {},
   "outputs": [
    {
     "name": "stdout",
     "output_type": "stream",
     "text": [
      "False\n"
     ]
    }
   ],
   "source": [
    "even_sel(10000000000000000222222200000000000022222200000033)"
   ]
  },
  {
   "cell_type": "code",
   "execution_count": 7,
   "id": "649f982a-5e8d-4c25-8245-161a0d2a5f2a",
   "metadata": {},
   "outputs": [],
   "source": [
    "def Hello():\n",
    "    print(\"Hello to the python world\")"
   ]
  },
  {
   "cell_type": "code",
   "execution_count": 8,
   "id": "d1cefc54-1641-4cbc-8c66-675ea1dc4de6",
   "metadata": {},
   "outputs": [
    {
     "name": "stdout",
     "output_type": "stream",
     "text": [
      "Hello to the python world\n"
     ]
    }
   ],
   "source": [
    "Hello()"
   ]
  },
  {
   "cell_type": "code",
   "execution_count": 9,
   "id": "2790da88-3829-401b-98a8-be19b6c590cc",
   "metadata": {},
   "outputs": [],
   "source": [
    "def add(num1,num2):\n",
    "    return num1+num2"
   ]
  },
  {
   "cell_type": "code",
   "execution_count": 10,
   "id": "c7d5d9c9-5c29-41af-baa2-db8acdd7e5d3",
   "metadata": {},
   "outputs": [
    {
     "data": {
      "text/plain": [
       "120"
      ]
     },
     "execution_count": 10,
     "metadata": {},
     "output_type": "execute_result"
    }
   ],
   "source": [
    "add(100,20)"
   ]
  },
  {
   "cell_type": "code",
   "execution_count": 11,
   "id": "0a567773-f4a3-43d4-8338-6de62f260b21",
   "metadata": {},
   "outputs": [],
   "source": [
    "def hello(name,age=20):\n",
    "    print(\"My name is {} and my age is {}\".format(name,age))"
   ]
  },
  {
   "cell_type": "code",
   "execution_count": 12,
   "id": "ee6e5cc7-ade8-4924-8d3e-485e3700f324",
   "metadata": {},
   "outputs": [
    {
     "name": "stdout",
     "output_type": "stream",
     "text": [
      "My name is Akshat and age is 20\n"
     ]
    }
   ],
   "source": [
    "hello(\"Akshat\")"
   ]
  },
  {
   "cell_type": "code",
   "execution_count": 13,
   "id": "2cd93f39-341f-4632-bc15-4abc3606db97",
   "metadata": {},
   "outputs": [
    {
     "ename": "TypeError",
     "evalue": "hello() missing 1 required positional argument: 'name'",
     "output_type": "error",
     "traceback": [
      "\u001b[1;31m---------------------------------------------------------------------------\u001b[0m",
      "\u001b[1;31mTypeError\u001b[0m                                 Traceback (most recent call last)",
      "Cell \u001b[1;32mIn[13], line 1\u001b[0m\n\u001b[1;32m----> 1\u001b[0m hello()\n",
      "\u001b[1;31mTypeError\u001b[0m: hello() missing 1 required positional argument: 'name'"
     ]
    }
   ],
   "source": [
    "hello()#since the positional args is only defined for the age args not name i.e keyword arg"
   ]
  },
  {
   "cell_type": "code",
   "execution_count": 15,
   "id": "9879f249-3c2a-47ab-bfd2-dd351f8b0b70",
   "metadata": {},
   "outputs": [
    {
     "name": "stdout",
     "output_type": "stream",
     "text": [
      "My name is Akshat and age is 21\n"
     ]
    }
   ],
   "source": [
    "hello(\"Akshat\",21)  # changing the keyword arg to 21 from 20(originally)"
   ]
  },
  {
   "cell_type": "code",
   "execution_count": 18,
   "id": "6ee6eff4-37d6-4e61-bdb8-330d4463a4fd",
   "metadata": {},
   "outputs": [],
   "source": [
    "def hello(*args,**kwargs):\n",
    "    print(args)\n",
    "    print(kwargs)"
   ]
  },
  {
   "cell_type": "code",
   "execution_count": 19,
   "id": "d97eb7d5-9a48-474d-94cb-c0431789ce2b",
   "metadata": {},
   "outputs": [
    {
     "name": "stdout",
     "output_type": "stream",
     "text": [
      "('Akshat', 'Raj')\n",
      "{'age': 20, 'dob': 2202}\n"
     ]
    }
   ],
   "source": [
    "hello(\"Akshat\",\"Raj\",age=20,dob=2005)"
   ]
  },
  {
   "cell_type": "code",
   "execution_count": 20,
   "id": "9a60c6b5-3a89-4828-9d52-cd9159a52041",
   "metadata": {},
   "outputs": [],
   "source": [
    "lst=['Akshat','Raj']\n",
    "dict_args={'age':29,'dob':2005}"
   ]
  },
  {
   "cell_type": "code",
   "execution_count": 23,
   "id": "7b23479b-15f3-4e9f-b25e-add6ad0e1e0d",
   "metadata": {},
   "outputs": [
    {
     "name": "stdout",
     "output_type": "stream",
     "text": [
      "(['Akshat', 'Raj'], {'age': 29, 'dob': 2005})\n",
      "{}\n"
     ]
    }
   ],
   "source": [
    "hello(lst,dict_args)"
   ]
  },
  {
   "cell_type": "code",
   "execution_count": 24,
   "id": "ef46f6c2-06c2-4035-ab4a-66e8e457f130",
   "metadata": {},
   "outputs": [
    {
     "name": "stdout",
     "output_type": "stream",
     "text": [
      "('Akshat', 'Raj')\n",
      "{'age': 29, 'dob': 2005}\n"
     ]
    }
   ],
   "source": [
    "hello(*lst,**dict_args)"
   ]
  },
  {
   "cell_type": "code",
   "execution_count": 29,
   "id": "ef8b3dfa-1c23-4a49-a7f4-c4eba4933bbb",
   "metadata": {},
   "outputs": [
    {
     "data": {
      "text/plain": [
       "4"
      ]
     },
     "execution_count": 29,
     "metadata": {},
     "output_type": "execute_result"
    }
   ],
   "source": [
    "lst=[1,2,3,4,5,6,7,8]\n",
    "lst[3]"
   ]
  },
  {
   "cell_type": "code",
   "execution_count": 30,
   "id": "99c216be-024e-416d-bb00-88d7554daccc",
   "metadata": {},
   "outputs": [],
   "source": [
    "def evenoddsum(list):\n",
    "    even_sum=0\n",
    "    odd_sum=0\n",
    "    for i in lst:\n",
    "        if(i%2==0):\n",
    "            even_sum=even_sum+lst[i]\n",
    "        else :\n",
    "            odd_sum=odd_sum+lst[i]\n",
    "    print(even_sum)\n",
    "    print(odd_sum)\n",
    "            \n"
   ]
  },
  {
   "cell_type": "code",
   "execution_count": null,
   "id": "9c024fc8-7a06-47dc-8760-248dfc9c1290",
   "metadata": {},
   "outputs": [],
   "source": [
    "evenoddsum(lst"
   ]
  },
  {
   "cell_type": "code",
   "execution_count": null,
   "id": "d16294cc-cae9-436d-bf7a-163979de5027",
   "metadata": {},
   "outputs": [],
   "source": []
  }
 ],
 "metadata": {
  "kernelspec": {
   "display_name": "Python 3 (ipykernel)",
   "language": "python",
   "name": "python3"
  },
  "language_info": {
   "codemirror_mode": {
    "name": "ipython",
    "version": 3
   },
   "file_extension": ".py",
   "mimetype": "text/x-python",
   "name": "python",
   "nbconvert_exporter": "python",
   "pygments_lexer": "ipython3",
   "version": "3.12.7"
  }
 },
 "nbformat": 4,
 "nbformat_minor": 5
}

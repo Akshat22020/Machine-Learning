{
 "cells": [
  {
   "cell_type": "raw",
   "id": "0e7c0eb9-17e2-4677-aee1-1b5cf07d5fb8",
   "metadata": {},
   "source": [
    "A set is iterable and unordered data structure , mutable , has no duplicate elements  , Based on DS- Hash Table under brackets {....}"
   ]
  },
  {
   "cell_type": "code",
   "execution_count": 2,
   "id": "291c82af-b420-416a-a281-0e9d05160319",
   "metadata": {},
   "outputs": [
    {
     "name": "stdout",
     "output_type": "stream",
     "text": [
      "set()\n",
      "<class 'set'>\n"
     ]
    }
   ],
   "source": [
    "set_ex=set()\n",
    "print(set_ex)\n",
    "print(type(set_ex))"
   ]
  },
  {
   "cell_type": "code",
   "execution_count": 18,
   "id": "086a3e0b-c540-49e8-8bb1-0b58495b695c",
   "metadata": {},
   "outputs": [
    {
     "name": "stdout",
     "output_type": "stream",
     "text": [
      "{'Akshat', 'Aaki', 'Pihu', 'Priyansh'}\n"
     ]
    }
   ],
   "source": [
    "set_1={\"Akshat\",\"Priyansh\",\"Aaki\",\"Pihu\"}\n",
    "print(set_1)"
   ]
  },
  {
   "cell_type": "code",
   "execution_count": 21,
   "id": "4176b411-3e19-4d39-92e8-0cf092979d31",
   "metadata": {},
   "outputs": [
    {
     "name": "stdout",
     "output_type": "stream",
     "text": [
      "{1, 2, 3, 4, 5, 6, 7, 8}\n"
     ]
    }
   ],
   "source": [
    "set_2={1,2,3,4,5,6,7,8,4,5,3,3,3,6}\n",
    "print(set_2)                     #no repetation\n"
   ]
  },
  {
   "cell_type": "code",
   "execution_count": 27,
   "id": "271067a7-11c1-4575-9d28-f9adb6b7663f",
   "metadata": {},
   "outputs": [
    {
     "data": {
      "text/plain": [
       "{6, 7}"
      ]
     },
     "execution_count": 27,
     "metadata": {},
     "output_type": "execute_result"
    }
   ],
   "source": [
    "set1={1,2,3,4,5}\n",
    "set2={3,4,5,6,7}\n",
    "set2.difference(set1)"
   ]
  },
  {
   "cell_type": "code",
   "execution_count": 28,
   "id": "004b140c-1aa2-43da-9b8e-4f68f0f6fbf6",
   "metadata": {},
   "outputs": [
    {
     "data": {
      "text/plain": [
       "{3, 4, 5}"
      ]
     },
     "execution_count": 28,
     "metadata": {},
     "output_type": "execute_result"
    }
   ],
   "source": [
    "set1={1,2,3,4,5}\n",
    "set2={3,4,5,6,7}\n",
    "set2.intersection(set1)"
   ]
  },
  {
   "cell_type": "code",
   "execution_count": 30,
   "id": "67cb11f9-29e7-47ff-b607-01179aff9c84",
   "metadata": {},
   "outputs": [
    {
     "name": "stdout",
     "output_type": "stream",
     "text": [
      "1\n",
      "2\n",
      "3\n",
      "4\n",
      "5\n"
     ]
    }
   ],
   "source": [
    "set1={1,2,3,4,5}\n",
    "set2={3,4,5,6,7}\n",
    "for i in set_1:\n",
    "    print(i)"
   ]
  },
  {
   "cell_type": "code",
   "execution_count": 31,
   "id": "271a296f-3e87-45d4-8b7e-2393b2da5f93",
   "metadata": {},
   "outputs": [
    {
     "name": "stdout",
     "output_type": "stream",
     "text": [
      "3\n",
      "4\n",
      "5\n",
      "6\n",
      "7\n"
     ]
    }
   ],
   "source": [
    "set1={1,2,3,4,5}\n",
    "set2={3,4,5,6,7}\n",
    "for i in set_2:\n",
    "    print(i)"
   ]
  },
  {
   "cell_type": "raw",
   "id": "fe97e833-be76-43b0-bc15-c62aa4a8f4a8",
   "metadata": {},
   "source": [
    "Dictionary is a datatype which includes keys and values syntax say :- key : value , Repetetion is allowed and traversing is possible,unordered , changabe , indexed"
   ]
  },
  {
   "cell_type": "code",
   "execution_count": 35,
   "id": "4a86997d-45f5-4c8d-ae85-3fad7f30cf33",
   "metadata": {},
   "outputs": [
    {
     "name": "stdout",
     "output_type": "stream",
     "text": [
      "{'1.': 'Akshat', '2.': 'Aaki', '3': 'Priyansh'}\n",
      "1. Akshat\n",
      "2. Aaki\n",
      "3 Priyansh\n"
     ]
    }
   ],
   "source": [
    "dict1={\"1.\":\"Akshat\",\"2.\":\"Aaki\",\"3\":\"Priyansh\"}\n",
    "print(dict1)\n",
    "for key in dict1:\n",
    "    print(key, dict1[key])\n",
    "    "
   ]
  },
  {
   "cell_type": "code",
   "execution_count": 36,
   "id": "ba8f3561-ef05-4ddd-99f2-87f8a2d2f3f0",
   "metadata": {},
   "outputs": [
    {
     "data": {
      "text/plain": [
       "'Akshat'"
      ]
     },
     "execution_count": 36,
     "metadata": {},
     "output_type": "execute_result"
    }
   ],
   "source": [
    "dict1={\"1.\":\"Akshat\",\"2.\":\"Aaki\",\"3\":\"Priyansh\"}\n",
    "dict1[\"1.\"]\n",
    "    "
   ]
  },
  {
   "cell_type": "code",
   "execution_count": 37,
   "id": "ce3a64f3-1922-463b-97d3-90d5bfd0b171",
   "metadata": {},
   "outputs": [
    {
     "name": "stdout",
     "output_type": "stream",
     "text": [
      "Akshat\n",
      "Aaki\n",
      "Priyansh\n"
     ]
    }
   ],
   "source": [
    "dict1={\"1.\":\"Akshat\",\"2.\":\"Aaki\",\"3\":\"Priyansh\"}\n",
    "for x in dict1.values():\n",
    "    print(x)"
   ]
  },
  {
   "cell_type": "code",
   "execution_count": 38,
   "id": "0a5b8a0a-9d30-48d2-a650-9825102e19a7",
   "metadata": {},
   "outputs": [
    {
     "name": "stdout",
     "output_type": "stream",
     "text": [
      "('1.', 'Akshat')\n",
      "('2.', 'Aaki')\n",
      "('3', 'Priyansh')\n"
     ]
    }
   ],
   "source": [
    "dict1={\"1.\":\"Akshat\",\"2.\":\"Aaki\",\"3\":\"Priyansh\"}\n",
    "for x in dict1.items():\n",
    "    print(x)"
   ]
  },
  {
   "cell_type": "code",
   "execution_count": null,
   "id": "698a5586-a700-4331-8c43-b00fe85bb7c0",
   "metadata": {},
   "outputs": [],
   "source": [
    "NESTED DICTIONARIES"
   ]
  },
  {
   "cell_type": "code",
   "execution_count": 40,
   "id": "151a4808-a3ea-4fbe-ac22-57023b366e43",
   "metadata": {},
   "outputs": [
    {
     "name": "stdout",
     "output_type": "stream",
     "text": [
      "('car_1 model', {'Maruti': 'Alto K 10'})\n",
      "('car_2 model', {'TATA': 'PUNCH vi'})\n",
      "('car_3 model', {'Mahindra': 'ScorpioN'})\n",
      "('Maruti', 'Alto K 10')\n",
      "('TATA', 'PUNCH vi')\n",
      "('Mahindra', 'ScorpioN')\n"
     ]
    }
   ],
   "source": [
    "car1={\"Maruti\":\"Alto K 10\"}\n",
    "car2={\"TATA\":\"PUNCH vi\"}\n",
    "car3={\"Mahindra\":\"ScorpioN\"}\n",
    "cars={\"car_1 model\":car1,\"car_2 model\":car2,\"car_3 model\":car3}\n",
    "for i in cars.items():\n",
    "    print(i)\n",
    "\n",
    "for i in car1.items():\n",
    "    print(i)\n",
    "for i in car2.items():\n",
    "    print(i)\n",
    "for i in car3.items():\n",
    "    print(i)"
   ]
  },
  {
   "cell_type": "code",
   "execution_count": null,
   "id": "1267b813-4570-4ce1-9bc4-f08b5cbdee9b",
   "metadata": {},
   "outputs": [],
   "source": [
    "TUPLES :- These are the data structures which are not mutable and are verydefinite about the storage of data items and are safe "
   ]
  },
  {
   "cell_type": "code",
   "execution_count": 41,
   "id": "bce6fbf0-6b62-4def-a7a9-edf4e80f6553",
   "metadata": {},
   "outputs": [
    {
     "name": "stdout",
     "output_type": "stream",
     "text": [
      "<class 'tuple'>\n"
     ]
    }
   ],
   "source": [
    "mytuple=(1,2,3,4)\n",
    "print(type(mytuple))"
   ]
  },
  {
   "cell_type": "code",
   "execution_count": 44,
   "id": "bfc05aa0-d061-442d-a356-eb724c992918",
   "metadata": {},
   "outputs": [
    {
     "data": {
      "text/plain": [
       "5"
      ]
     },
     "execution_count": 44,
     "metadata": {},
     "output_type": "execute_result"
    }
   ],
   "source": [
    "mytuple=(1,2,1,1,1,1,3,4)\n",
    "mytuple.count(1)\n"
   ]
  },
  {
   "cell_type": "code",
   "execution_count": 44,
   "id": "cdc9c878-1fcb-4c98-8dfc-2d97d0f959f7",
   "metadata": {},
   "outputs": [
    {
     "data": {
      "text/plain": [
       "5"
      ]
     },
     "execution_count": 44,
     "metadata": {},
     "output_type": "execute_result"
    }
   ],
   "source": [
    "mytuple=(1,2,1,1,1,1,3,4)\n",
    "mytuple.count(1)\n"
   ]
  },
  {
   "cell_type": "code",
   "execution_count": null,
   "id": "3a5a308e-efed-431b-adce-49b72a953eb7",
   "metadata": {},
   "outputs": [],
   "source": []
  },
  {
   "cell_type": "code",
   "execution_count": null,
   "id": "e3f4ab29-549c-47ed-b2ad-82bbf7d41734",
   "metadata": {},
   "outputs": [],
   "source": []
  },
  {
   "cell_type": "code",
   "execution_count": null,
   "id": "aa6022ea-5e71-4f13-8c6c-8217e147c0af",
   "metadata": {},
   "outputs": [],
   "source": []
  }
 ],
 "metadata": {
  "kernelspec": {
   "display_name": "Python 3 (ipykernel)",
   "language": "python",
   "name": "python3"
  },
  "language_info": {
   "codemirror_mode": {
    "name": "ipython",
    "version": 3
   },
   "file_extension": ".py",
   "mimetype": "text/x-python",
   "name": "python",
   "nbconvert_exporter": "python",
   "pygments_lexer": "ipython3",
   "version": "3.12.7"
  }
 },
 "nbformat": 4,
 "nbformat_minor": 5
}

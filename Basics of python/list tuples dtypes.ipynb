{
 "cells": [
  {
   "cell_type": "code",
   "execution_count": 1,
   "id": "05bf2e36-7913-4d35-9361-e64db3290c68",
   "metadata": {},
   "outputs": [
    {
     "name": "stdout",
     "output_type": "stream",
     "text": [
      "Hii!, This is the basic course for python for ML and AI\n"
     ]
    }
   ],
   "source": [
    "print (\"Hii!, This is the basic course for python for ML and AI\")"
   ]
  },
  {
   "cell_type": "code",
   "execution_count": 7,
   "id": "64a6d66e-76d4-4ded-a156-4c3ba7ea8c13",
   "metadata": {},
   "outputs": [
    {
     "name": "stdout",
     "output_type": "stream",
     "text": [
      "2\n"
     ]
    }
   ],
   "source": [
    "list=[1,2,3,4]\n",
    "print(list[1])"
   ]
  },
  {
   "cell_type": "code",
   "execution_count": 8,
   "id": "9f5f2755-3d21-46a2-8afb-982529e74869",
   "metadata": {},
   "outputs": [
    {
     "name": "stdout",
     "output_type": "stream",
     "text": [
      "Equal\n"
     ]
    }
   ],
   "source": [
    "if(list[1]!=2):\n",
    "    print(\"OOps , not equal\")\n",
    "else:\n",
    "    print(\"Equal\")"
   ]
  },
  {
   "cell_type": "code",
   "execution_count": 3,
   "id": "10f78c2a-53aa-4db4-806e-3c415e4729f0",
   "metadata": {},
   "outputs": [
    {
     "name": "stdin",
     "output_type": "stream",
     "text": [
      "Enter the number 2\n"
     ]
    },
    {
     "name": "stdout",
     "output_type": "stream",
     "text": [
      "Matched!!\n"
     ]
    }
   ],
   "source": [
    "list=[1,2,3,4]\n",
    "num=int(input(\"Enter the number\"))\n",
    "if(list[1]!=num):\n",
    "    print(\"OOPS , Didn't match!!\")\n",
    "else :\n",
    "        print(\"Matched!!\")"
   ]
  },
  {
   "cell_type": "code",
   "execution_count": 4,
   "id": "2ae53d3e-0c24-4e03-80e6-1397c95bde3f",
   "metadata": {},
   "outputs": [
    {
     "name": "stdin",
     "output_type": "stream",
     "text": [
      "Enter the number 2\n"
     ]
    },
    {
     "name": "stdout",
     "output_type": "stream",
     "text": [
      "True\n"
     ]
    }
   ],
   "source": [
    "list=[1,2,3,4]\n",
    "num=int(input(\"Enter the number\"))\n",
    "if(list[1]!=num):\n",
    "    print(False)    #False is bool d_type\n",
    "else :\n",
    "        print(True) #True is bool d_type"
   ]
  },
  {
   "cell_type": "code",
   "execution_count": 8,
   "id": "12454332-4044-45e8-b2a4-b522768382bf",
   "metadata": {},
   "outputs": [
    {
     "name": "stdout",
     "output_type": "stream",
     "text": [
      "False\n",
      "False\n",
      "False\n",
      "True\n",
      "True\n",
      "True\n"
     ]
    }
   ],
   "source": [
    "name='Akshat Raj'\n",
    "print(name.isalnum())\n",
    "print(name.isalpha())\n",
    "print(name.isdigit())\n",
    "print(name.istitle())\n",
    "print(name.endswith('j'))\n",
    "print(name.startswith('A'))\n",
    "      "
   ]
  },
  {
   "cell_type": "raw",
   "id": "1cd34bd4-6472-46c7-9a4b-b8cdd6264dd0",
   "metadata": {},
   "source": [
    "True or True"
   ]
  },
  {
   "cell_type": "code",
   "execution_count": 10,
   "id": "54d5e1c5-42cd-4192-afaf-40e81612c04c",
   "metadata": {},
   "outputs": [
    {
     "data": {
      "text/plain": [
       "True"
      ]
     },
     "execution_count": 10,
     "metadata": {},
     "output_type": "execute_result"
    }
   ],
   "source": [
    "True and True"
   ]
  },
  {
   "cell_type": "code",
   "execution_count": 11,
   "id": "feb0981e-80c3-4a95-95a1-1af1aed82d42",
   "metadata": {},
   "outputs": [
    {
     "data": {
      "text/plain": [
       "True"
      ]
     },
     "execution_count": 11,
     "metadata": {},
     "output_type": "execute_result"
    }
   ],
   "source": [
    "False or True"
   ]
  },
  {
   "cell_type": "code",
   "execution_count": 12,
   "id": "b175010e-2865-44c9-a724-9b7c4ad59801",
   "metadata": {},
   "outputs": [
    {
     "data": {
      "text/plain": [
       "False"
      ]
     },
     "execution_count": 12,
     "metadata": {},
     "output_type": "execute_result"
    }
   ],
   "source": [
    "False or False"
   ]
  },
  {
   "cell_type": "code",
   "execution_count": 13,
   "id": "55b7d8ef-42bd-4b30-a29d-57d0fd6d3a23",
   "metadata": {},
   "outputs": [
    {
     "data": {
      "text/plain": [
       "True"
      ]
     },
     "execution_count": 13,
     "metadata": {},
     "output_type": "execute_result"
    }
   ],
   "source": [
    "False or True"
   ]
  },
  {
   "cell_type": "markdown",
   "id": "af5efc60-d5a2-499d-8300-72c671caa45a",
   "metadata": {},
   "source": [
    "Lists are the data structures in python which are mutable and it has collection of different elements inside a collective envelope"
   ]
  },
  {
   "cell_type": "code",
   "execution_count": 18,
   "id": "7ca1633b-8f1c-4e85-91a1-3eebd4dbd657",
   "metadata": {},
   "outputs": [
    {
     "name": "stdout",
     "output_type": "stream",
     "text": [
      "3\n"
     ]
    },
    {
     "data": {
      "text/plain": [
       "[1, 2, 3, 4, 5, 6, 7, 8, 9, 10, 'Akshat', 'Riya', 'Priyanshu', 'Akshay']"
      ]
     },
     "execution_count": 18,
     "metadata": {},
     "output_type": "execute_result"
    }
   ],
   "source": [
    "list_ex=[1,2,3,4,5,6,7,8,9,10,\"Akshat\",\"Riya\",\"Priyanshu\"]\n",
    "type(list_ex)\n",
    "print(list_ex[2])\n",
    "list_ex.append(\"Akshay\")\n",
    " # use insert , pop , delete in lists\n",
    "list_ex"
   ]
  },
  {
   "cell_type": "code",
   "execution_count": null,
   "id": "d8bc61ca-be0e-4149-a87c-0368466f9b11",
   "metadata": {},
   "outputs": [],
   "source": []
  },
  {
   "cell_type": "code",
   "execution_count": null,
   "id": "df55960f-e067-4474-86a9-1959065416cc",
   "metadata": {},
   "outputs": [],
   "source": []
  },
  {
   "cell_type": "code",
   "execution_count": null,
   "id": "6d857fa6-612f-4d74-abbe-2e6319b15482",
   "metadata": {},
   "outputs": [],
   "source": []
  },
  {
   "cell_type": "code",
   "execution_count": null,
   "id": "0cce8684-1299-46e1-a22b-89c4caa0fbfe",
   "metadata": {},
   "outputs": [],
   "source": []
  },
  {
   "cell_type": "code",
   "execution_count": null,
   "id": "774094c4-d931-4389-b018-1748fcfda94f",
   "metadata": {},
   "outputs": [],
   "source": []
  },
  {
   "cell_type": "code",
   "execution_count": null,
   "id": "de45c4c8-5e5e-4f52-9716-7d70d9ed5b2d",
   "metadata": {},
   "outputs": [],
   "source": []
  },
  {
   "cell_type": "code",
   "execution_count": null,
   "id": "1ff92af5-59c5-48f4-ba01-fdf94917b4ad",
   "metadata": {},
   "outputs": [],
   "source": []
  },
  {
   "cell_type": "code",
   "execution_count": null,
   "id": "ac19d78a-9283-4a10-b490-17ab823767ba",
   "metadata": {},
   "outputs": [],
   "source": []
  },
  {
   "cell_type": "code",
   "execution_count": null,
   "id": "bda9d4b4-bb9a-47ad-bd8a-c3938be9eac5",
   "metadata": {},
   "outputs": [],
   "source": []
  },
  {
   "cell_type": "code",
   "execution_count": null,
   "id": "68234ff9-b88b-4449-9339-59d71a2389f7",
   "metadata": {},
   "outputs": [],
   "source": []
  },
  {
   "cell_type": "code",
   "execution_count": null,
   "id": "5d1218d1-d3a9-4c27-ae44-53b47748dcd3",
   "metadata": {},
   "outputs": [],
   "source": []
  },
  {
   "cell_type": "code",
   "execution_count": null,
   "id": "f05f61dd-3442-4c63-bef9-7fc933438d98",
   "metadata": {},
   "outputs": [],
   "source": []
  },
  {
   "cell_type": "code",
   "execution_count": null,
   "id": "2a4ab1d1-5bf1-4013-abb9-3fd06d73e0af",
   "metadata": {},
   "outputs": [],
   "source": []
  },
  {
   "cell_type": "code",
   "execution_count": null,
   "id": "b3d09a49-4011-4116-a7d3-ec032ea36423",
   "metadata": {},
   "outputs": [],
   "source": []
  },
  {
   "cell_type": "code",
   "execution_count": null,
   "id": "426d02f2-d9ba-4b42-a883-3fa3d2ff94ef",
   "metadata": {},
   "outputs": [],
   "source": []
  },
  {
   "cell_type": "code",
   "execution_count": null,
   "id": "5e7ddd27-fe22-4ba9-be4e-7cf50daeb738",
   "metadata": {},
   "outputs": [],
   "source": []
  }
 ],
 "metadata": {
  "kernelspec": {
   "display_name": "Python 3 (ipykernel)",
   "language": "python",
   "name": "python3"
  },
  "language_info": {
   "codemirror_mode": {
    "name": "ipython",
    "version": 3
   },
   "file_extension": ".py",
   "mimetype": "text/x-python",
   "name": "python",
   "nbconvert_exporter": "python",
   "pygments_lexer": "ipython3",
   "version": "3.12.7"
  }
 },
 "nbformat": 4,
 "nbformat_minor": 5
}

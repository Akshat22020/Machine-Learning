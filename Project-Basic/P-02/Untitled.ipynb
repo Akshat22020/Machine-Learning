{
 "cells": [
  {
   "cell_type": "code",
   "execution_count": null,
   "id": "83a38d69-97cc-460e-abc9-b7c6323de835",
   "metadata": {
    "vscode": {
     "languageId": "python"
    }
   },
   "outputs": [],
   "source": [
    "import numpy as np\n",
    "\n",
    "# List of valid choices\n",
    "choices = [\"rock\", \"paper\", \"scissors\"]\n",
    "\n",
    "# User input\n",
    "user_choice = input(\"Enter your choice (rock, paper, or scissors): \").lower()\n",
    "\n",
    "# Validate input\n",
    "if user_choice not in choices:\n",
    "    print(\"Invalid input! Please choose rock, paper, or scissors.\")\n",
    "else:\n",
    "    # Computer's random choice using NumPy\n",
    "    computer_choice = np.random.choice(choices)\n",
    "    print(f\"Computer chose: {computer_choice}\")\n",
    "\n",
    "    # Determine the winner\n",
    "    if user_choice == computer_choice:\n",
    "        print(\"It's a tie!\")\n",
    "    elif (\n",
    "        (user_choice == \"rock\" and computer_choice == \"scissors\") or\n",
    "        (user_choice == \"paper\" and computer_choice == \"rock\") or\n",
    "        (user_choice == \"scissors\" and computer_choice == \"paper\")\n",
    "    ):\n",
    "        print(\"You win!\")\n",
    "    else:\n",
    "        print(\"Computer wins!\")"
   ]
  }
 ],
 "metadata": {
  "kernelspec": {
   "display_name": "",
   "name": ""
  },
  "language_info": {
   "name": ""
  }
 },
 "nbformat": 4,
 "nbformat_minor": 5
}

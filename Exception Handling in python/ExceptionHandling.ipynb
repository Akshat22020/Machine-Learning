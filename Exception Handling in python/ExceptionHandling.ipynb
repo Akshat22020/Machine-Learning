{
 "cells": [
  {
   "cell_type": "code",
   "execution_count": 1,
   "id": "02523ab0-a9e0-4771-a90b-c6e0b321a13c",
   "metadata": {},
   "outputs": [
    {
     "ename": "NameError",
     "evalue": "name 'b' is not defined",
     "output_type": "error",
     "traceback": [
      "\u001b[1;31m---------------------------------------------------------------------------\u001b[0m",
      "\u001b[1;31mNameError\u001b[0m                                 Traceback (most recent call last)",
      "Cell \u001b[1;32mIn[1], line 1\u001b[0m\n\u001b[1;32m----> 1\u001b[0m a\u001b[38;5;241m=\u001b[39mb\n",
      "\u001b[1;31mNameError\u001b[0m: name 'b' is not defined"
     ]
    }
   ],
   "source": [
    "a=b"
   ]
  },
  {
   "cell_type": "code",
   "execution_count": null,
   "id": "e0dd3c88-d04c-4050-8acb-9957d79977b8",
   "metadata": {},
   "outputs": [],
   "source": [
    "# try: \n",
    "    #code block where exceptions occur\n",
    "# except: \n",
    "    #messages written , about the problems"
   ]
  },
  {
   "cell_type": "code",
   "execution_count": 1,
   "id": "ba5daf45-551b-4f28-b92e-279e1b64119e",
   "metadata": {},
   "outputs": [
    {
     "name": "stdout",
     "output_type": "stream",
     "text": [
      "name 'b' is not defined\n"
     ]
    }
   ],
   "source": [
    "try:\n",
    "    a=b\n",
    "except Exception as ex:\n",
    "    print(ex)\n",
    "    "
   ]
  },
  {
   "cell_type": "code",
   "execution_count": 2,
   "id": "0175fadb-a070-402f-a2a1-4d4956649a10",
   "metadata": {},
   "outputs": [
    {
     "name": "stdout",
     "output_type": "stream",
     "text": [
      "Division with 0 is not possible\n"
     ]
    }
   ],
   "source": [
    "try:\n",
    "    a/0\n",
    "except:\n",
    "    print(\"Division with 0 is not possible\")"
   ]
  },
  {
   "cell_type": "code",
   "execution_count": 4,
   "id": "1958017f-297e-435f-8703-d234ac603185",
   "metadata": {},
   "outputs": [
    {
     "name": "stdout",
     "output_type": "stream",
     "text": [
      "division by zero\n"
     ]
    }
   ],
   "source": [
    "try:\n",
    "    4/0\n",
    "except Exception as ex:  # Exception class with object --> ex\n",
    "    print(ex)"
   ]
  },
  {
   "cell_type": "code",
   "execution_count": 10,
   "id": "25ee3d9d-8eb5-43fd-9386-0fc3bb654591",
   "metadata": {},
   "outputs": [
    {
     "name": "stdin",
     "output_type": "stream",
     "text": [
      "Enter the first number 12\n",
      "Enter the second number 4\n"
     ]
    },
    {
     "name": "stdout",
     "output_type": "stream",
     "text": [
      "16 3.0 48\n",
      "16 3.0 48\n"
     ]
    }
   ],
   "source": [
    "#try else \n",
    "try:\n",
    "    a=int ( input ( \"Enter the first number\"))\n",
    "    b=int(input(\"Enter the second number\"))\n",
    "    c=a+b\n",
    "    d=a/b\n",
    "    e=a*b\n",
    "    print(c,d,e)\n",
    "\n",
    "except ZeroDivisionError:\n",
    "    print(\"Oops , Please enter numbers greater than zero\")\n",
    "except Exception as ex:\n",
    "    print(ex)\n",
    "else:\n",
    "    print(c,d,e)"
   ]
  },
  {
   "cell_type": "code",
   "execution_count": null,
   "id": "17b0c9bd-71c6-45c9-860d-4a722c3d12c3",
   "metadata": {},
   "outputs": [],
   "source": [
    "#try else finally\n",
    "try:\n",
    "    a=int ( input ( \"Enter the first number\"))\n",
    "    b=int(input(\"Enter the second number\"))\n",
    "    c=a+b\n",
    "    d=a/b\n",
    "    e=a*b\n",
    "    print(c,d,e)\n",
    "\n",
    "except ZeroDivisionError:\n",
    "    print(\"Oops , Please enter numbers greater than zero\")\n",
    "except Exception as ex:\n",
    "    print(ex)\n",
    "else:\n",
    "    print(c,d,e)\n",
    "fi"
   ]
  }
 ],
 "metadata": {
  "kernelspec": {
   "display_name": "Python 3 (ipykernel)",
   "language": "python",
   "name": "python3"
  },
  "language_info": {
   "codemirror_mode": {
    "name": "ipython",
    "version": 3
   },
   "file_extension": ".py",
   "mimetype": "text/x-python",
   "name": "python",
   "nbconvert_exporter": "python",
   "pygments_lexer": "ipython3",
   "version": "3.12.7"
  }
 },
 "nbformat": 4,
 "nbformat_minor": 5
}

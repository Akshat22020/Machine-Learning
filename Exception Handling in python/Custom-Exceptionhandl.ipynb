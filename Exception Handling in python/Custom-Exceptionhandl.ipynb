{
 "cells": [
  {
   "cell_type": "code",
   "execution_count": null,
   "id": "8c354c6b-aaa9-4cb9-be53-5e6c3bf0c7fc",
   "metadata": {},
   "outputs": [],
   "source": [
    "Custom Excpetions"
   ]
  },
  {
   "cell_type": "code",
   "execution_count": 5,
   "id": "d3cdec78-ee5b-4fae-83ff-87f666688757",
   "metadata": {},
   "outputs": [],
   "source": [
    "class Error(Exception):\n",
    "    pass\n",
    "class dobException(Error):\n",
    "    pass\n",
    "    "
   ]
  },
  {
   "cell_type": "code",
   "execution_count": 12,
   "id": "4742cfb6-e05d-49e3-a75c-81de51537a4b",
   "metadata": {},
   "outputs": [
    {
     "name": "stdin",
     "output_type": "stream",
     "text": [
      "Enter the year of birth: 1995\n"
     ]
    },
    {
     "name": "stdout",
     "output_type": "stream",
     "text": [
      "The age is valid ,  you can apply for exams\n"
     ]
    }
   ],
   "source": [
    "year=int(input(\"Enter the year of birth:\"))\n",
    "age=2025-year\n",
    "try:\n",
    "    if age<=30 and age>=20:\n",
    "        print(\"The age is valid ,  you can apply for exams\")\n",
    "    else:\n",
    "         raise dobException\n",
    "except dobException:\n",
    "     print(\"THe year age is not valid\")"
   ]
  },
  {
   "cell_type": "code",
   "execution_count": null,
   "id": "fb5a00ee-a4fc-48c1-a30f-338cf552688d",
   "metadata": {},
   "outputs": [],
   "source": []
  },
  {
   "cell_type": "code",
   "execution_count": null,
   "id": "bef2e7de-5437-406b-b601-27f784d82f17",
   "metadata": {},
   "outputs": [],
   "source": []
  },
  {
   "cell_type": "code",
   "execution_count": null,
   "id": "c20891b7-cded-4ef0-b30a-2d7c1546114a",
   "metadata": {},
   "outputs": [],
   "source": []
  },
  {
   "cell_type": "code",
   "execution_count": null,
   "id": "358a15be-415f-4c5f-862a-5fe4dd22a7e1",
   "metadata": {},
   "outputs": [],
   "source": []
  },
  {
   "cell_type": "code",
   "execution_count": null,
   "id": "1ecd7a01-b409-43c3-be27-006a66613465",
   "metadata": {},
   "outputs": [],
   "source": []
  },
  {
   "cell_type": "code",
   "execution_count": null,
   "id": "762d52a7-622e-4420-a575-9eb5ff8ab98b",
   "metadata": {},
   "outputs": [],
   "source": []
  },
  {
   "cell_type": "code",
   "execution_count": null,
   "id": "c4319bf6-e57c-4c7f-abdf-6f4e60f7d463",
   "metadata": {},
   "outputs": [],
   "source": []
  },
  {
   "cell_type": "code",
   "execution_count": null,
   "id": "19412f2b-954f-4889-a513-dd2ab1d75a00",
   "metadata": {},
   "outputs": [],
   "source": []
  },
  {
   "cell_type": "code",
   "execution_count": null,
   "id": "7b833f1d-6c05-4282-a93e-ff99360c812e",
   "metadata": {},
   "outputs": [],
   "source": []
  }
 ],
 "metadata": {
  "kernelspec": {
   "display_name": "Python 3 (ipykernel)",
   "language": "python",
   "name": "python3"
  },
  "language_info": {
   "codemirror_mode": {
    "name": "ipython",
    "version": 3
   },
   "file_extension": ".py",
   "mimetype": "text/x-python",
   "name": "python",
   "nbconvert_exporter": "python",
   "pygments_lexer": "ipython3",
   "version": "3.12.7"
  }
 },
 "nbformat": 4,
 "nbformat_minor": 5
}

{
 "cells": [
  {
   "cell_type": "code",
   "execution_count": 17,
   "id": "b22509f2-9f56-4fc8-846f-c26a8b4067ea",
   "metadata": {},
   "outputs": [],
   "source": [
    "class car:\n",
    "    pass\n",
    "    "
   ]
  },
  {
   "cell_type": "code",
   "execution_count": 18,
   "id": "36252258-adea-49ba-8a42-2f146e64692a",
   "metadata": {},
   "outputs": [],
   "source": [
    "car1=car()\n"
   ]
  },
  {
   "cell_type": "code",
   "execution_count": 27,
   "id": "e8e09806-5fb1-48af-a78e-54c52f91d3a8",
   "metadata": {},
   "outputs": [
    {
     "data": {
      "text/plain": [
       "['__class__',\n",
       " '__delattr__',\n",
       " '__dict__',\n",
       " '__dir__',\n",
       " '__doc__',\n",
       " '__eq__',\n",
       " '__format__',\n",
       " '__ge__',\n",
       " '__getattribute__',\n",
       " '__getstate__',\n",
       " '__gt__',\n",
       " '__hash__',\n",
       " '__init__',\n",
       " '__init_subclass__',\n",
       " '__le__',\n",
       " '__lt__',\n",
       " '__module__',\n",
       " '__ne__',\n",
       " '__new__',\n",
       " '__reduce__',\n",
       " '__reduce_ex__',\n",
       " '__repr__',\n",
       " '__setattr__',\n",
       " '__sizeof__',\n",
       " '__str__',\n",
       " '__subclasshook__',\n",
       " '__weakref__',\n",
       " 'doors',\n",
       " 'windows']"
      ]
     },
     "execution_count": 27,
     "metadata": {},
     "output_type": "execute_result"
    }
   ],
   "source": [
    "car1\n",
    "dir(car1)\n"
   ]
  },
  {
   "cell_type": "code",
   "execution_count": 20,
   "id": "1ac79cbe-ae76-47ae-b805-e3a73f24a30b",
   "metadata": {},
   "outputs": [],
   "source": [
    "car1.windows=6\n",
    "car1.doors=4\n"
   ]
  },
  {
   "cell_type": "code",
   "execution_count": 21,
   "id": "da1e5ec9-8810-49fb-8c72-c0698eedee65",
   "metadata": {},
   "outputs": [
    {
     "name": "stdout",
     "output_type": "stream",
     "text": [
      "6\n"
     ]
    }
   ],
   "source": [
    "print(car1.windows)"
   ]
  },
  {
   "cell_type": "code",
   "execution_count": 22,
   "id": "8d921d7e-7d71-4345-a8a8-bfdea9f2681f",
   "metadata": {},
   "outputs": [],
   "source": [
    "car2=car() # car() --> constructor"
   ]
  },
  {
   "cell_type": "code",
   "execution_count": 23,
   "id": "61f31a7e-99da-4f0c-af56-3d43f06b7b45",
   "metadata": {},
   "outputs": [],
   "source": [
    "car2.windows=3\n",
    "car2.doors=2"
   ]
  },
  {
   "cell_type": "code",
   "execution_count": 24,
   "id": "e6effaa1-6bd3-4a86-9173-86f0bdefcf49",
   "metadata": {},
   "outputs": [
    {
     "name": "stdout",
     "output_type": "stream",
     "text": [
      "2 3\n"
     ]
    }
   ],
   "source": [
    "print(car2.doors,car2.windows)"
   ]
  },
  {
   "cell_type": "code",
   "execution_count": 25,
   "id": "85ea302e-7f0f-422b-8a5c-d12fc9f66b11",
   "metadata": {},
   "outputs": [
    {
     "name": "stdout",
     "output_type": "stream",
     "text": [
      "Petrol\n"
     ]
    }
   ],
   "source": [
    "car2.enginetype=\"Petrol\"\n",
    "print(car2.enginetype)"
   ]
  },
  {
   "cell_type": "code",
   "execution_count": 26,
   "id": "5285848f-753f-442b-b176-adc087c9fb7f",
   "metadata": {},
   "outputs": [
    {
     "data": {
      "text/plain": [
       "['__class__',\n",
       " '__delattr__',\n",
       " '__dict__',\n",
       " '__dir__',\n",
       " '__doc__',\n",
       " '__eq__',\n",
       " '__format__',\n",
       " '__ge__',\n",
       " '__getattribute__',\n",
       " '__getstate__',\n",
       " '__gt__',\n",
       " '__hash__',\n",
       " '__init__',\n",
       " '__init_subclass__',\n",
       " '__le__',\n",
       " '__lt__',\n",
       " '__module__',\n",
       " '__ne__',\n",
       " '__new__',\n",
       " '__reduce__',\n",
       " '__reduce_ex__',\n",
       " '__repr__',\n",
       " '__setattr__',\n",
       " '__sizeof__',\n",
       " '__str__',\n",
       " '__subclasshook__',\n",
       " '__weakref__',\n",
       " 'doors',\n",
       " 'windows']"
      ]
     },
     "execution_count": 26,
     "metadata": {},
     "output_type": "execute_result"
    }
   ],
   "source": [
    "dir(car1)"
   ]
  },
  {
   "cell_type": "code",
   "execution_count": 36,
   "id": "f08cc4a2-a56c-4755-b297-fab5b6f3f314",
   "metadata": {},
   "outputs": [],
   "source": [
    "class CarX:\n",
    "    def __init__(self,window,door,enginetype):\n",
    "        self.doors=door\n",
    "        self.windows=window\n",
    "        self.enginetype=enginetype\n",
    "    def self_driving(self,enginetype):\n",
    "        return\"This is a {} car\".format(self.enginetype)"
   ]
  },
  {
   "cell_type": "code",
   "execution_count": 41,
   "id": "226d8e9c-1444-461e-bf8b-acf0fecafd88",
   "metadata": {},
   "outputs": [],
   "source": [
    "carx=CarX(3,4,\"EV\")"
   ]
  },
  {
   "cell_type": "code",
   "execution_count": 34,
   "id": "a8a48c90-dcdd-481d-a8af-ce904a6d0ece",
   "metadata": {},
   "outputs": [
    {
     "name": "stdout",
     "output_type": "stream",
     "text": [
      "4\n"
     ]
    }
   ],
   "source": [
    "print(carx.doors)"
   ]
  },
  {
   "cell_type": "code",
   "execution_count": 37,
   "id": "23631bf4-abbd-4f0b-ab59-b717649f9827",
   "metadata": {},
   "outputs": [
    {
     "name": "stdout",
     "output_type": "stream",
     "text": [
      "EV\n"
     ]
    }
   ],
   "source": [
    "print(carx.enginetype)"
   ]
  },
  {
   "cell_type": "code",
   "execution_count": 42,
   "id": "95115449-a23f-4e9e-a883-1955a0ddcf75",
   "metadata": {},
   "outputs": [
    {
     "ename": "TypeError",
     "evalue": "CarX.self_driving() missing 1 required positional argument: 'enginetype'",
     "output_type": "error",
     "traceback": [
      "\u001b[1;31m---------------------------------------------------------------------------\u001b[0m",
      "\u001b[1;31mTypeError\u001b[0m                                 Traceback (most recent call last)",
      "Cell \u001b[1;32mIn[42], line 1\u001b[0m\n\u001b[1;32m----> 1\u001b[0m carx\u001b[38;5;241m.\u001b[39mself_driving()\n",
      "\u001b[1;31mTypeError\u001b[0m: CarX.self_driving() missing 1 required positional argument: 'enginetype'"
     ]
    }
   ],
   "source": [
    "carx.self_driving()"
   ]
  },
  {
   "cell_type": "code",
   "execution_count": null,
   "id": "5ada226c-3bcc-4ca6-8e02-990d183978ec",
   "metadata": {},
   "outputs": [],
   "source": []
  },
  {
   "cell_type": "code",
   "execution_count": null,
   "id": "6cdbd0ee-2ec2-4a8d-bfc9-c847f30f357e",
   "metadata": {},
   "outputs": [],
   "source": []
  },
  {
   "cell_type": "code",
   "execution_count": null,
   "id": "e1fe3374-ed42-4901-a7bf-628b07170d03",
   "metadata": {},
   "outputs": [],
   "source": []
  }
 ],
 "metadata": {
  "kernelspec": {
   "display_name": "Python 3 (ipykernel)",
   "language": "python",
   "name": "python3"
  },
  "language_info": {
   "codemirror_mode": {
    "name": "ipython",
    "version": 3
   },
   "file_extension": ".py",
   "mimetype": "text/x-python",
   "name": "python",
   "nbconvert_exporter": "python",
   "pygments_lexer": "ipython3",
   "version": "3.12.7"
  }
 },
 "nbformat": 4,
 "nbformat_minor": 5
}

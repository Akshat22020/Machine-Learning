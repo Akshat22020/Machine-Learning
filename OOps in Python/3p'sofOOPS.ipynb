{
 "cells": [
  {
   "cell_type": "code",
   "execution_count": null,
   "id": "8eea91f5-0926-4ebd-b70a-dc45642edf5d",
   "metadata": {},
   "outputs": [],
   "source": [
    "#public , private and protected"
   ]
  },
  {
   "cell_type": "code",
   "execution_count": 1,
   "id": "271368ad-a2fd-481a-894b-419b8da6bdc5",
   "metadata": {},
   "outputs": [],
   "source": [
    "class car():\n",
    "    def __init__(self,windows,doors,enginetype):   #init--> constructor \n",
    "        self.windows=windows       #var1\n",
    "        self.doors=doors           #var2\n",
    "        self.enginetype=enginetype #var3"
   ]
  },
  {
   "cell_type": "code",
   "execution_count": 3,
   "id": "ffecca19-8482-4d86-b4d0-d3333a16cb6b",
   "metadata": {},
   "outputs": [],
   "source": [
    "audi=car(4,5,\"Diesel\")"
   ]
  },
  {
   "cell_type": "code",
   "execution_count": 4,
   "id": "1b1d4aef-a64b-436a-882c-c89b7d9dba6d",
   "metadata": {},
   "outputs": [
    {
     "data": {
      "text/plain": [
       "<__main__.car at 0x24172ddb170>"
      ]
     },
     "execution_count": 4,
     "metadata": {},
     "output_type": "execute_result"
    }
   ],
   "source": [
    "audi"
   ]
  },
  {
   "cell_type": "code",
   "execution_count": 8,
   "id": "9af1a70b-86c8-4641-86ab-e8d0952e2c0d",
   "metadata": {},
   "outputs": [
    {
     "data": {
      "text/plain": [
       "['__class__',\n",
       " '__delattr__',\n",
       " '__dict__',\n",
       " '__dir__',\n",
       " '__doc__',\n",
       " '__eq__',\n",
       " '__format__',\n",
       " '__ge__',\n",
       " '__getattribute__',\n",
       " '__getstate__',\n",
       " '__gt__',\n",
       " '__hash__',\n",
       " '__init__',\n",
       " '__init_subclass__',\n",
       " '__le__',\n",
       " '__lt__',\n",
       " '__module__',\n",
       " '__ne__',\n",
       " '__new__',\n",
       " '__reduce__',\n",
       " '__reduce_ex__',\n",
       " '__repr__',\n",
       " '__setattr__',\n",
       " '__sizeof__',\n",
       " '__str__',\n",
       " '__subclasshook__',\n",
       " '__weakref__',\n",
       " 'doors',\n",
       " 'enginetype',\n",
       " 'windows']"
      ]
     },
     "execution_count": 8,
     "metadata": {},
     "output_type": "execute_result"
    }
   ],
   "source": [
    "dir(audi)"
   ]
  },
  {
   "cell_type": "code",
   "execution_count": 6,
   "id": "52f7244d-b0e8-4a78-9644-ab65e09014be",
   "metadata": {},
   "outputs": [
    {
     "data": {
      "text/plain": [
       "4"
      ]
     },
     "execution_count": 6,
     "metadata": {},
     "output_type": "execute_result"
    }
   ],
   "source": [
    "audi.windows"
   ]
  },
  {
   "cell_type": "code",
   "execution_count": 7,
   "id": "9b7d7722-0f56-4ab9-b05b-4ca81bbaa20e",
   "metadata": {},
   "outputs": [
    {
     "data": {
      "text/plain": [
       "'Diesel'"
      ]
     },
     "execution_count": 7,
     "metadata": {},
     "output_type": "execute_result"
    }
   ],
   "source": [
    "audi.enginetype"
   ]
  },
  {
   "cell_type": "code",
   "execution_count": 9,
   "id": "191302c3-1aa3-492a-a9d5-cc0f2fe4e5a6",
   "metadata": {},
   "outputs": [],
   "source": [
    "class carpro():\n",
    "    def __init__(self,windows,doors,enginetype):   #init--> constructor \n",
    "        self._windows=windows       #protected var1 --> can be accessed only by the child or friend class\n",
    "        self._doors=doors           #protected var2\n",
    "        self._enginetype=enginetype #protected var3"
   ]
  },
  {
   "cell_type": "code",
   "execution_count": 10,
   "id": "4f4da578-04bd-4ff1-997e-522fa1233b29",
   "metadata": {},
   "outputs": [],
   "source": [
    "audi=carpro(1,2,\"EV\")"
   ]
  },
  {
   "cell_type": "code",
   "execution_count": 12,
   "id": "2ef05d52-8df8-4ca6-b293-3ad83a151f38",
   "metadata": {},
   "outputs": [
    {
     "data": {
      "text/plain": [
       "['__class__',\n",
       " '__delattr__',\n",
       " '__dict__',\n",
       " '__dir__',\n",
       " '__doc__',\n",
       " '__eq__',\n",
       " '__format__',\n",
       " '__ge__',\n",
       " '__getattribute__',\n",
       " '__getstate__',\n",
       " '__gt__',\n",
       " '__hash__',\n",
       " '__init__',\n",
       " '__init_subclass__',\n",
       " '__le__',\n",
       " '__lt__',\n",
       " '__module__',\n",
       " '__ne__',\n",
       " '__new__',\n",
       " '__reduce__',\n",
       " '__reduce_ex__',\n",
       " '__repr__',\n",
       " '__setattr__',\n",
       " '__sizeof__',\n",
       " '__str__',\n",
       " '__subclasshook__',\n",
       " '__weakref__',\n",
       " '_doors',\n",
       " '_enginetype',\n",
       " '_windows']"
      ]
     },
     "execution_count": 12,
     "metadata": {},
     "output_type": "execute_result"
    }
   ],
   "source": [
    "dir(audi)\n"
   ]
  },
  {
   "cell_type": "code",
   "execution_count": 15,
   "id": "6fa9edc0-16be-4005-b8ec-5d8af5f5dfaa",
   "metadata": {},
   "outputs": [
    {
     "data": {
      "text/plain": [
       "2"
      ]
     },
     "execution_count": 15,
     "metadata": {},
     "output_type": "execute_result"
    }
   ],
   "source": [
    "audi._doors"
   ]
  },
  {
   "cell_type": "code",
   "execution_count": 17,
   "id": "c6f4e441-ab94-41d5-adf3-252fe17e0679",
   "metadata": {},
   "outputs": [],
   "source": [
    "class Truck(carpro):\n",
    "    def __init__(self,windows,doors,enginetype,horsepower):\n",
    "        super(). __init__(windows,doors,enginetype)\n",
    "        self.horsepower=horsepower"
   ]
  },
  {
   "cell_type": "code",
   "execution_count": 19,
   "id": "5ffc0541-dfd3-4da1-98d4-3e36abc736cf",
   "metadata": {},
   "outputs": [],
   "source": [
    "truck=Truck(2,3,\"Diesel\",3000)"
   ]
  },
  {
   "cell_type": "code",
   "execution_count": 20,
   "id": "593c2bee-e48b-4d61-8397-fc789160e5da",
   "metadata": {},
   "outputs": [
    {
     "data": {
      "text/plain": [
       "['__class__',\n",
       " '__delattr__',\n",
       " '__dict__',\n",
       " '__dir__',\n",
       " '__doc__',\n",
       " '__eq__',\n",
       " '__format__',\n",
       " '__ge__',\n",
       " '__getattribute__',\n",
       " '__getstate__',\n",
       " '__gt__',\n",
       " '__hash__',\n",
       " '__init__',\n",
       " '__init_subclass__',\n",
       " '__le__',\n",
       " '__lt__',\n",
       " '__module__',\n",
       " '__ne__',\n",
       " '__new__',\n",
       " '__reduce__',\n",
       " '__reduce_ex__',\n",
       " '__repr__',\n",
       " '__setattr__',\n",
       " '__sizeof__',\n",
       " '__str__',\n",
       " '__subclasshook__',\n",
       " '__weakref__',\n",
       " '_doors',\n",
       " '_enginetype',\n",
       " '_windows',\n",
       " 'horsepower']"
      ]
     },
     "execution_count": 20,
     "metadata": {},
     "output_type": "execute_result"
    }
   ],
   "source": [
    "dir(truck)"
   ]
  },
  {
   "cell_type": "code",
   "execution_count": 21,
   "id": "2bcebd6b-65d8-4658-8735-7544f3177c5e",
   "metadata": {},
   "outputs": [],
   "source": [
    "truck._doors=5    #in public  the values of the attributes can be changes without any problem\n",
    "                  #But in a protected class we need to specift the location , inheritance , and data abs in order to chage the value\n",
    "                  #It can be overridden too"
   ]
  },
  {
   "cell_type": "code",
   "execution_count": 22,
   "id": "bb59912a-cc68-4077-b26a-f28312943619",
   "metadata": {},
   "outputs": [
    {
     "data": {
      "text/plain": [
       "5"
      ]
     },
     "execution_count": 22,
     "metadata": {},
     "output_type": "execute_result"
    }
   ],
   "source": [
    "truck._doors"
   ]
  },
  {
   "cell_type": "code",
   "execution_count": null,
   "id": "d7981435-ad83-4300-a6a1-8307fbbdfed5",
   "metadata": {},
   "outputs": [],
   "source": [
    "###private (cannot be accessed from anywhere,only in the class itself)"
   ]
  },
  {
   "cell_type": "code",
   "execution_count": 23,
   "id": "13d1402b-d3c5-4f4c-9078-38c52a367e39",
   "metadata": {},
   "outputs": [],
   "source": [
    "class car():\n",
    "    def __init__(self,windows,doors,enginetype):   \n",
    "        self.__windows=windows       \n",
    "        self.__doors=doors           \n",
    "        self.__enginetype=enginetype "
   ]
  },
  {
   "cell_type": "code",
   "execution_count": 24,
   "id": "1f814ae2-1532-4fb0-baab-1f45b8ebd12b",
   "metadata": {},
   "outputs": [],
   "source": [
    "car1=car(1,2,\"EV\")"
   ]
  },
  {
   "cell_type": "code",
   "execution_count": 25,
   "id": "c07ca121-c0ef-45c4-a6e9-999086124ce1",
   "metadata": {},
   "outputs": [
    {
     "data": {
      "text/plain": [
       "['__class__',\n",
       " '__delattr__',\n",
       " '__dict__',\n",
       " '__dir__',\n",
       " '__doc__',\n",
       " '__eq__',\n",
       " '__format__',\n",
       " '__ge__',\n",
       " '__getattribute__',\n",
       " '__getstate__',\n",
       " '__gt__',\n",
       " '__hash__',\n",
       " '__init__',\n",
       " '__init_subclass__',\n",
       " '__le__',\n",
       " '__lt__',\n",
       " '__module__',\n",
       " '__ne__',\n",
       " '__new__',\n",
       " '__reduce__',\n",
       " '__reduce_ex__',\n",
       " '__repr__',\n",
       " '__setattr__',\n",
       " '__sizeof__',\n",
       " '__str__',\n",
       " '__subclasshook__',\n",
       " '__weakref__',\n",
       " '_car__doors',\n",
       " '_car__enginetype',\n",
       " '_car__windows']"
      ]
     },
     "execution_count": 25,
     "metadata": {},
     "output_type": "execute_result"
    }
   ],
   "source": [
    "dir(car1)"
   ]
  }
 ],
 "metadata": {
  "kernelspec": {
   "display_name": "Python 3 (ipykernel)",
   "language": "python",
   "name": "python3"
  },
  "language_info": {
   "codemirror_mode": {
    "name": "ipython",
    "version": 3
   },
   "file_extension": ".py",
   "mimetype": "text/x-python",
   "name": "python",
   "nbconvert_exporter": "python",
   "pygments_lexer": "ipython3",
   "version": "3.12.7"
  }
 },
 "nbformat": 4,
 "nbformat_minor": 5
}

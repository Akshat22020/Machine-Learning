{
 "cells": [
  {
   "cell_type": "code",
   "execution_count": 1,
   "id": "a09ada45-4fe6-4f8b-923c-a3784c881fe6",
   "metadata": {},
   "outputs": [],
   "source": [
    "# All the classes are public in python\n",
    "#Blueprint of car"
   ]
  },
  {
   "cell_type": "code",
   "execution_count": 1,
   "id": "0d771927-63ba-4a0e-bf66-41911ee1d31f",
   "metadata": {},
   "outputs": [],
   "source": [
    "class Car():\n",
    "    def __init__(self,windows,doors,enginetype):\n",
    "        self.windows=windows\n",
    "        self.doors=doors\n",
    "        self.enginetype=enginetype\n",
    "    def drive(self):    #writing self is  imp or else function will not be executed\n",
    "        print(\"The person drives the car\")"
   ]
  },
  {
   "cell_type": "code",
   "execution_count": 3,
   "id": "5071bdde-e3d3-47d1-b83f-2ea22b20b430",
   "metadata": {},
   "outputs": [],
   "source": [
    "car=Car(2,3,\"Diesel\")"
   ]
  },
  {
   "cell_type": "code",
   "execution_count": 4,
   "id": "cd4b815d-3ca7-4534-947a-54fe74b51cd8",
   "metadata": {},
   "outputs": [
    {
     "data": {
      "text/plain": [
       "2"
      ]
     },
     "execution_count": 4,
     "metadata": {},
     "output_type": "execute_result"
    }
   ],
   "source": [
    "car.windows"
   ]
  },
  {
   "cell_type": "code",
   "execution_count": 5,
   "id": "1d3e84d4-4a47-4e55-9d8a-1969d8ca4a3b",
   "metadata": {},
   "outputs": [
    {
     "data": {
      "text/plain": [
       "['__class__',\n",
       " '__delattr__',\n",
       " '__dict__',\n",
       " '__dir__',\n",
       " '__doc__',\n",
       " '__eq__',\n",
       " '__format__',\n",
       " '__ge__',\n",
       " '__getattribute__',\n",
       " '__getstate__',\n",
       " '__gt__',\n",
       " '__hash__',\n",
       " '__init__',\n",
       " '__init_subclass__',\n",
       " '__le__',\n",
       " '__lt__',\n",
       " '__module__',\n",
       " '__ne__',\n",
       " '__new__',\n",
       " '__reduce__',\n",
       " '__reduce_ex__',\n",
       " '__repr__',\n",
       " '__setattr__',\n",
       " '__sizeof__',\n",
       " '__str__',\n",
       " '__subclasshook__',\n",
       " '__weakref__',\n",
       " 'doors',\n",
       " 'drive',\n",
       " 'enginetype',\n",
       " 'windows']"
      ]
     },
     "execution_count": 5,
     "metadata": {},
     "output_type": "execute_result"
    }
   ],
   "source": [
    "dir(car)"
   ]
  },
  {
   "cell_type": "code",
   "execution_count": 6,
   "id": "90b09554-65f5-471e-a587-8aba23624cd0",
   "metadata": {},
   "outputs": [
    {
     "data": {
      "text/plain": [
       "'Diesel'"
      ]
     },
     "execution_count": 6,
     "metadata": {},
     "output_type": "execute_result"
    }
   ],
   "source": [
    "car.enginetype"
   ]
  },
  {
   "cell_type": "code",
   "execution_count": 7,
   "id": "6e5371c9-a0df-43e6-9805-ab3849414846",
   "metadata": {},
   "outputs": [
    {
     "name": "stdout",
     "output_type": "stream",
     "text": [
      "The person drives the car\n"
     ]
    }
   ],
   "source": [
    "car.drive()"
   ]
  },
  {
   "cell_type": "code",
   "execution_count": 2,
   "id": "9fd2470f-5f0d-4785-8cc6-ff5b1afa1a93",
   "metadata": {},
   "outputs": [],
   "source": [
    "class audi(Car):\n",
    "    def __init__ (self,windows,doors,eninetype,enableai):\n",
    "        super().__init__(windows,doors,enginetype)\n",
    "        self.enableai=enableai\n",
    "    def selfdriving(self):\n",
    "        print(\"The car is now on auto pilot\")"
   ]
  },
  {
   "cell_type": "code",
   "execution_count": 3,
   "id": "fe8042bf-bc55-4c15-80c7-48061e0f64de",
   "metadata": {},
   "outputs": [
    {
     "ename": "NameError",
     "evalue": "name 'enginetype' is not defined",
     "output_type": "error",
     "traceback": [
      "\u001b[1;31m---------------------------------------------------------------------------\u001b[0m",
      "\u001b[1;31mNameError\u001b[0m                                 Traceback (most recent call last)",
      "Cell \u001b[1;32mIn[3], line 1\u001b[0m\n\u001b[1;32m----> 1\u001b[0m audiq7\u001b[38;5;241m=\u001b[39maudi(\u001b[38;5;241m1\u001b[39m,\u001b[38;5;241m2\u001b[39m,\u001b[38;5;124m\"\u001b[39m\u001b[38;5;124mDiesel\u001b[39m\u001b[38;5;124m\"\u001b[39m,\u001b[38;5;28;01mTrue\u001b[39;00m)\n",
      "Cell \u001b[1;32mIn[2], line 3\u001b[0m, in \u001b[0;36maudi.__init__\u001b[1;34m(self, windows, doors, eninetype, enableai)\u001b[0m\n\u001b[0;32m      2\u001b[0m \u001b[38;5;28;01mdef\u001b[39;00m \u001b[38;5;21m__init__\u001b[39m (\u001b[38;5;28mself\u001b[39m,windows,doors,eninetype,enableai):\n\u001b[1;32m----> 3\u001b[0m     \u001b[38;5;28msuper\u001b[39m()\u001b[38;5;241m.\u001b[39m\u001b[38;5;21m__init__\u001b[39m(windows,doors,enginetype)\n\u001b[0;32m      4\u001b[0m     \u001b[38;5;28mself\u001b[39m\u001b[38;5;241m.\u001b[39menableai\u001b[38;5;241m=\u001b[39menableai\n",
      "\u001b[1;31mNameError\u001b[0m: name 'enginetype' is not defined"
     ]
    }
   ],
   "source": [
    "audiq7=audi(1,2,\"Diesel\",True)"
   ]
  },
  {
   "cell_type": "code",
   "execution_count": null,
   "id": "cd6961ce-b6c7-4237-abbd-9e4e03aaef1b",
   "metadata": {},
   "outputs": [],
   "source": []
  },
  {
   "cell_type": "code",
   "execution_count": null,
   "id": "58835e17-1cac-4a42-a2a5-4414177f82be",
   "metadata": {},
   "outputs": [],
   "source": []
  },
  {
   "cell_type": "code",
   "execution_count": null,
   "id": "2e7fb726-d4e2-4509-b042-dbf76ff7ee1f",
   "metadata": {},
   "outputs": [],
   "source": []
  },
  {
   "cell_type": "code",
   "execution_count": null,
   "id": "8c9abd8d-077e-4804-a0e3-318836a773ec",
   "metadata": {},
   "outputs": [],
   "source": []
  },
  {
   "cell_type": "code",
   "execution_count": null,
   "id": "acbe7129-b60c-4760-882d-adedea5942bd",
   "metadata": {},
   "outputs": [],
   "source": []
  }
 ],
 "metadata": {
  "kernelspec": {
   "display_name": "Python 3 (ipykernel)",
   "language": "python",
   "name": "python3"
  },
  "language_info": {
   "codemirror_mode": {
    "name": "ipython",
    "version": 3
   },
   "file_extension": ".py",
   "mimetype": "text/x-python",
   "name": "python",
   "nbconvert_exporter": "python",
   "pygments_lexer": "ipython3",
   "version": "3.12.7"
  }
 },
 "nbformat": 4,
 "nbformat_minor": 5
}

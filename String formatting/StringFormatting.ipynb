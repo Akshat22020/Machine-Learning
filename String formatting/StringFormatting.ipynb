{
 "cells": [
  {
   "cell_type": "code",
   "execution_count": 4,
   "id": "443a154c-8bc1-46a8-a104-1bf95b321276",
   "metadata": {},
   "outputs": [
    {
     "name": "stdout",
     "output_type": "stream",
     "text": [
      "sha\n"
     ]
    }
   ],
   "source": [
    "a=\"Akshat\"\n",
    "print(a[2:5])"
   ]
  },
  {
   "cell_type": "code",
   "execution_count": 5,
   "id": "67ed3724-af16-4ac1-8d0f-37dd4ae0db96",
   "metadata": {},
   "outputs": [
    {
     "name": "stdin",
     "output_type": "stream",
     "text": [
      "Number 1: 3\n"
     ]
    }
   ],
   "source": [
    "a= int(input(\"Number 1:\"))"
   ]
  },
  {
   "cell_type": "code",
   "execution_count": 6,
   "id": "c96f0331-2223-490c-918a-1d07d45b196e",
   "metadata": {},
   "outputs": [
    {
     "name": "stdout",
     "output_type": "stream",
     "text": [
      "5\n"
     ]
    }
   ],
   "source": [
    "a=a+2\n",
    "print(a)"
   ]
  },
  {
   "cell_type": "code",
   "execution_count": 7,
   "id": "8909a611-7530-40dd-93c7-764940728c9e",
   "metadata": {},
   "outputs": [],
   "source": [
    "def greeting(name):\n",
    "    print(\"The name is {}\".format(name))"
   ]
  },
  {
   "cell_type": "code",
   "execution_count": 8,
   "id": "198fd29c-557d-4aee-a95b-c1878c563f00",
   "metadata": {},
   "outputs": [
    {
     "name": "stdout",
     "output_type": "stream",
     "text": [
      "The name is Akshat\n"
     ]
    }
   ],
   "source": [
    "greeting(\"Akshat\")"
   ]
  },
  {
   "cell_type": "code",
   "execution_count": 14,
   "id": "78c55237-be0e-4224-96ef-1cabd3161b69",
   "metadata": {},
   "outputs": [],
   "source": [
    "def welcome(f_name,l_name):\n",
    "    print(\"The first name is {} and the last name is {}\".format(f_name,l_name))"
   ]
  },
  {
   "cell_type": "code",
   "execution_count": 15,
   "id": "231b49ff-e122-4132-a57c-3a6a4ed38ec5",
   "metadata": {},
   "outputs": [
    {
     "name": "stdout",
     "output_type": "stream",
     "text": [
      "The first name is Akshat and the last name is Raj\n"
     ]
    }
   ],
   "source": [
    "welcome(\"Akshat\",\"Raj\")"
   ]
  },
  {
   "cell_type": "code",
   "execution_count": 16,
   "id": "589fdadf-0322-490c-a22e-1d0ea02a8805",
   "metadata": {},
   "outputs": [],
   "source": [
    "def welcome(f_name,age):\n",
    "    print(\"The first name is {} and the age is {}\".format(f_name,age))"
   ]
  },
  {
   "cell_type": "code",
   "execution_count": 17,
   "id": "d9509319-5c84-48ac-bfb2-e1d774346842",
   "metadata": {},
   "outputs": [
    {
     "name": "stdout",
     "output_type": "stream",
     "text": [
      "The first name is Akshat and the age is 20\n"
     ]
    }
   ],
   "source": [
    "welcome(\"Akshat\",20)"
   ]
  }
 ],
 "metadata": {
  "kernelspec": {
   "display_name": "Python 3 (ipykernel)",
   "language": "python",
   "name": "python3"
  },
  "language_info": {
   "codemirror_mode": {
    "name": "ipython",
    "version": 3
   },
   "file_extension": ".py",
   "mimetype": "text/x-python",
   "name": "python",
   "nbconvert_exporter": "python",
   "pygments_lexer": "ipython3",
   "version": "3.12.7"
  }
 },
 "nbformat": 4,
 "nbformat_minor": 5
}
